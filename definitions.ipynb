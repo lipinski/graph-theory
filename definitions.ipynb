{
 "cells": [
  {
   "cell_type": "code",
   "execution_count": 1,
   "id": "772881aa-441a-4cbc-b63c-90be5ed4290a",
   "metadata": {},
   "outputs": [],
   "source": [
    "import matplotlib.pyplot as plt\n",
    "import networkx as nx\n",
    "import numpy as np"
   ]
  },
  {
   "cell_type": "code",
   "execution_count": 157,
   "id": "d6d0e23b-de6b-4b44-80a8-c990547fb58d",
   "metadata": {},
   "outputs": [
    {
     "data": {
      "image/png": "[encoded data removed]",
      "text/plain": [
       "<Figure size 100x100 with 1 Axes>"
      ]
     },
     "metadata": {},
     "output_type": "display_data"
    }
   ],
   "source": [
    "figsize=(1, 1)\n",
    "fig = plt.figure(figsize=figsize)\n",
    "G = nx.Graph([(1, 2), (1, 3), (1, 4), (3, 4), (3, 5), (4, 5), (5, 6)])\n",
    "\n",
    "pos = nx.kamada_kawai_layout(G)\n",
    "nx.draw(G, pos=pos, node_size=150, with_labels=True)"
   ]
  },
  {
   "cell_type": "markdown",
   "id": "539fa5b3-423e-4e8f-8e5d-c34c1ebcf88e",
   "metadata": {},
   "source": [
    "# Definitions"
   ]
  },
  {
   "cell_type": "markdown",
   "id": "08e5fdac-c9a2-435e-985f-25db5147241b",
   "metadata": {},
   "source": [
    "## Definition 1 - Partition of A"
   ]
  },
  {
   "cell_type": "markdown",
   "id": "29e3c133-81c4-4a90-a2da-8023a76b4d02",
   "metadata": {},
   "source": [
    "A set $A = A_1,..,A_k$ of disjoint subsets of a set $A$ is a parition of $A$ if $\\cup A$ of all sets $A_i$ and $A \\neq\\emptyset$ for every i."
   ]
  },
  {
   "cell_type": "code",
   "execution_count": 3,
   "id": "6c6a7d23-7496-419b-8282-a601b38b53aa",
   "metadata": {},
   "outputs": [
    {
     "data": {
      "text/plain": [
       "True"
      ]
     },
     "execution_count": 3,
     "metadata": {},
     "output_type": "execute_result"
    }
   ],
   "source": [
    "A = {1, 2, 3, 4, 5, 6} \n",
    "\n",
    "A_1 = {1, 2}\n",
    "A_2 = {3, 4}\n",
    "A_3 = {5, 6}\n",
    "\n",
    "A == A_1 | A_2 | A_3"
   ]
  },
  {
   "cell_type": "markdown",
   "id": "939de1e3-7906-4a52-b448-f5b53e41585d",
   "metadata": {},
   "source": [
    "## Definition 2 - Vertex set"
   ]
  },
  {
   "cell_type": "markdown",
   "id": "b019492f-4175-4b5e-926b-95bfcbd466b9",
   "metadata": {},
   "source": [
    "The set of vertices in a graph denoted by $V(G)$."
   ]
  },
  {
   "cell_type": "code",
   "execution_count": 4,
   "id": "1b8c6c3b-dbdd-44e8-b1ba-112e5f45cdc1",
   "metadata": {},
   "outputs": [
    {
     "name": "stdout",
     "output_type": "stream",
     "text": [
      "Vertex set V(G) = {1, 2, 3, 4, 5, 6}\n"
     ]
    },
    {
     "data": {
      "image/png": "[encoded data removed]",
      "text/plain": [
       "<Figure size 100x100 with 1 Axes>"
      ]
     },
     "metadata": {},
     "output_type": "display_data"
    }
   ],
   "source": [
    "fig = plt.figure(figsize=figsize)\n",
    "nx.draw(G, pos=pos, node_size=150, with_labels=True)\n",
    "\n",
    "print(f'Vertex set V(G) = {set(G.nodes)}')"
   ]
  },
  {
   "cell_type": "markdown",
   "id": "2489dec1-955c-4637-b561-f48186bc87c3",
   "metadata": {},
   "source": [
    "## Definition 3 - Edge set"
   ]
  },
  {
   "cell_type": "markdown",
   "id": "a124cc73-de56-4a3c-a3e9-1870c360e78d",
   "metadata": {},
   "source": [
    "The set of edges in a graph denoted by $E(G)$."
   ]
  },
  {
   "cell_type": "code",
   "execution_count": 5,
   "id": "63136239-9f49-4dd8-9fb3-149755fda83a",
   "metadata": {},
   "outputs": [
    {
     "name": "stdout",
     "output_type": "stream",
     "text": [
      "Edge set E(G) = {(1, 2), (1, 3), (4, 5), (5, 6), (1, 4), (3, 4), (3, 5)}\n"
     ]
    },
    {
     "data": {
      "image/png": "[encoded data removed]",
      "text/plain": [
       "<Figure size 100x100 with 1 Axes>"
      ]
     },
     "metadata": {},
     "output_type": "display_data"
    }
   ],
   "source": [
    "fig = plt.figure(figsize=figsize)\n",
    "nx.draw(G, pos=pos, node_size=150, with_labels=True)\n",
    "\n",
    "print(f'Edge set E(G) = {set(G.edges)}')"
   ]
  },
  {
   "cell_type": "markdown",
   "id": "15ec2678-5e03-4c8e-830e-1131b3a79f38",
   "metadata": {},
   "source": [
    "## Definition 4 - Order"
   ]
  },
  {
   "cell_type": "markdown",
   "id": "96f79921-227f-4b1b-9662-de92962fda88",
   "metadata": {},
   "source": [
    "The number of vertices in a graph denoted by $|V|$."
   ]
  },
  {
   "cell_type": "code",
   "execution_count": 6,
   "id": "c4416128-3eb6-4282-8c09-015fd0b6e7bb",
   "metadata": {},
   "outputs": [
    {
     "name": "stdout",
     "output_type": "stream",
     "text": [
      "Order |V| = 6\n"
     ]
    },
    {
     "data": {
      "image/png": "[encoded data removed]",
      "text/plain": [
       "<Figure size 100x100 with 1 Axes>"
      ]
     },
     "metadata": {},
     "output_type": "display_data"
    }
   ],
   "source": [
    "order = G.order()\n",
    "assert order == len(G.nodes)\n",
    "\n",
    "fig = plt.figure(figsize=figsize)\n",
    "nx.draw(G, pos=pos, node_size=150, with_labels=True)\n",
    "nx.draw_networkx_nodes(G, pos=pos, nodelist=G.nodes, node_size=150, node_color='red')\n",
    "\n",
    "print(f'Order |V| = {order}')"
   ]
  },
  {
   "cell_type": "markdown",
   "id": "0137ee2b-6348-4dda-af88-7e88551bda33",
   "metadata": {},
   "source": [
    "## Definition 5 - Size"
   ]
  },
  {
   "cell_type": "markdown",
   "id": "5cb05438-60c9-49c0-a919-8d579d6070cc",
   "metadata": {},
   "source": [
    "The number of edges in a graph denoted by $|E|$."
   ]
  },
  {
   "cell_type": "code",
   "execution_count": 7,
   "id": "13fc4f46-6a8d-4d0c-a789-2e6f0f53c1a9",
   "metadata": {},
   "outputs": [
    {
     "name": "stdout",
     "output_type": "stream",
     "text": [
      "Order |V| = 7\n"
     ]
    },
    {
     "data": {
      "image/png": "[encoded data removed]",
      "text/plain": [
       "<Figure size 100x100 with 1 Axes>"
      ]
     },
     "metadata": {},
     "output_type": "display_data"
    }
   ],
   "source": [
    "size = G.size()\n",
    "assert size == len(G.edges)\n",
    "\n",
    "fig = plt.figure(figsize=figsize)\n",
    "nx.draw(G, pos=pos, node_size=150, with_labels=True)\n",
    "nx.draw_networkx_edges(G, pos=pos, edgelist=G.edges, edge_color='red')\n",
    "\n",
    "print(f'Order |V| = {size}')"
   ]
  },
  {
   "cell_type": "markdown",
   "id": "f3b51e0f-85e7-4d05-9118-084831934b15",
   "metadata": {},
   "source": [
    "## Definition 5 - Incident"
   ]
  },
  {
   "cell_type": "markdown",
   "id": "c110c05c-c19e-4267-9dcc-f2df89555c76",
   "metadata": {},
   "source": [
    "A vertex $v$ is incident with an edge $e$ if $v \\in e$ then $e$ is an edge at $v$. "
   ]
  },
  {
   "cell_type": "code",
   "execution_count": 8,
   "id": "3addc2b3-c7ca-45a1-b9c2-32ce1f591984",
   "metadata": {},
   "outputs": [
    {
     "name": "stdout",
     "output_type": "stream",
     "text": [
      "Incident edges for v_1  = [(1, 2), (1, 3), (1, 4)]\n"
     ]
    },
    {
     "data": {
      "image/png": "[encoded data removed]",
      "text/plain": [
       "<Figure size 100x100 with 1 Axes>"
      ]
     },
     "metadata": {},
     "output_type": "display_data"
    }
   ],
   "source": [
    "node = 1\n",
    "incident_edges = G.edges(node)\n",
    "\n",
    "fig = plt.figure(figsize=figsize)\n",
    "nx.draw(G, pos=pos, node_size=150, with_labels=True)\n",
    "nx.draw_networkx_edges(G, pos=pos, edgelist=incident_edges, edge_color='red', width=5)\n",
    "\n",
    "print(f'Incident edges for v_{node}  = {incident_edges}')"
   ]
  },
  {
   "cell_type": "markdown",
   "id": "aaa50ce7-e33c-41b6-a83b-b1b3dc31359d",
   "metadata": {},
   "source": [
    "### Incidence matrix"
   ]
  },
  {
   "cell_type": "markdown",
   "id": "3f55bebf-7dc1-439d-8d1f-2132abdd9eb2",
   "metadata": {},
   "source": [
    "The incidence matrix is a matrix in which each row of the matrix corresponds to a vertex in the graph, and each column corresponds to an edge. The entry in row i and column j is 1 if vertex i is incident to edge j, and 0 otherwise. In directed graphs, the entries can be either 1, -1 or 0, depending on the direction of the edge."
   ]
  },
  {
   "cell_type": "code",
   "execution_count": 9,
   "id": "fe618fd8-0546-4924-a69f-f6b5443ed1c2",
   "metadata": {},
   "outputs": [
    {
     "name": "stdout",
     "output_type": "stream",
     "text": [
      "Incident matrix:\n",
      "[[1. 1. 1. 0. 0. 0. 0.]\n",
      " [1. 0. 0. 0. 0. 0. 0.]\n",
      " [0. 1. 0. 1. 1. 0. 0.]\n",
      " [0. 0. 1. 1. 0. 1. 0.]\n",
      " [0. 0. 0. 0. 1. 1. 1.]\n",
      " [0. 0. 0. 0. 0. 0. 1.]]\n"
     ]
    }
   ],
   "source": [
    "incidence_matrix = nx.incidence_matrix(G)\n",
    "\n",
    "assert incidence_matrix.shape[0] == G.order()\n",
    "assert incidence_matrix.shape[1] == G.size()\n",
    "\n",
    "print(f'Incident matrix:\\n{incidence_matrix.todense()}')"
   ]
  },
  {
   "cell_type": "markdown",
   "id": "6c780e87-f6e3-408d-9452-0b1b2c306069",
   "metadata": {},
   "source": [
    "## Definition 6 - Adjacent"
   ]
  },
  {
   "cell_type": "markdown",
   "id": "01c43515-846f-41f2-a6dd-5adfa7eac024",
   "metadata": {},
   "source": [
    "Two vertices $x$,$y$ of $G$ are adjacent if $xy$ is is an edge of $G$."
   ]
  },
  {
   "cell_type": "code",
   "execution_count": 10,
   "id": "8205d4ff-6757-4f13-8ffa-12bff268d12a",
   "metadata": {},
   "outputs": [
    {
     "name": "stdout",
     "output_type": "stream",
     "text": [
      "Adjacent edges for v_1  = [(1, 2), (1, 3), (1, 4)]\n"
     ]
    },
    {
     "data": {
      "image/png": "[encoded data removed]",
      "text/plain": [
       "<Figure size 100x100 with 1 Axes>"
      ]
     },
     "metadata": {},
     "output_type": "display_data"
    }
   ],
   "source": [
    "node = 1\n",
    "adjacent_nodes = list(G.adj[node].keys())\n",
    "\n",
    "fig = plt.figure(figsize=figsize)\n",
    "nx.draw(G, pos=pos, node_size=150, with_labels=True)\n",
    "nx.draw_networkx_nodes(G, pos=pos, nodelist=adjacent_nodes, node_size=150, node_color='red')\n",
    "\n",
    "# Check if vertices 1, 3 are adjacent.\n",
    "assert G.has_edge(1, 3)\n",
    "# Check if vertices 1, 6 are not adjacent.\n",
    "assert G.has_edge(1, 6) == False\n",
    "\n",
    "print(f'Adjacent edges for v_{node}  = {incident_edges}')"
   ]
  },
  {
   "cell_type": "markdown",
   "id": "703f83bd-f2a4-40b4-8d3e-f5bc3f18cded",
   "metadata": {},
   "source": [
    "### Adjacency matrix"
   ]
  },
  {
   "cell_type": "markdown",
   "id": "3b0518cd-5bac-4d22-9658-7145b84c978b",
   "metadata": {},
   "source": [
    "An adjacency matrix is a square matrix used to represent a finite graph. The elements of the matrix indicate whether pairs of vertices are adjacent or not in the graph."
   ]
  },
  {
   "cell_type": "code",
   "execution_count": 11,
   "id": "c2beeb31-f986-4ced-90c4-a5df2df4ae37",
   "metadata": {},
   "outputs": [
    {
     "name": "stdout",
     "output_type": "stream",
     "text": [
      "Adjency matrix:\n",
      "[[0 1 1 1 0 0]\n",
      " [1 0 0 0 0 0]\n",
      " [1 0 0 1 1 0]\n",
      " [1 0 1 0 1 0]\n",
      " [0 0 1 1 0 1]\n",
      " [0 0 0 0 1 0]]\n"
     ]
    }
   ],
   "source": [
    "print(f'Adjency matrix:\\n{nx.adjacency_matrix(G).todense()}')"
   ]
  },
  {
   "cell_type": "markdown",
   "id": "f1164595-39a4-45fe-b1d4-09491d72c4a9",
   "metadata": {},
   "source": [
    "## Definition 7 - Complete"
   ]
  },
  {
   "cell_type": "markdown",
   "id": "d1deb00c-26b4-4aea-8fc7-6767be5339ba",
   "metadata": {},
   "source": [
    "If all vertices of G are pairwise adjacent thet $G$ is complete."
   ]
  },
  {
   "cell_type": "code",
   "execution_count": 19,
   "id": "e22a3f9a-968c-4871-baae-b09981b56b34",
   "metadata": {},
   "outputs": [
    {
     "name": "stdout",
     "output_type": "stream",
     "text": [
      "Adjency matrix:\n",
      "[[0 1 1 1 1]\n",
      " [1 0 1 1 1]\n",
      " [1 1 0 1 1]\n",
      " [1 1 1 0 1]\n",
      " [1 1 1 1 0]]\n"
     ]
    },
    {
     "data": {
      "image/png": "[encoded data removed]",
      "text/plain": [
       "<Figure size 100x100 with 1 Axes>"
      ]
     },
     "metadata": {},
     "output_type": "display_data"
    }
   ],
   "source": [
    "# Generate complete graph K\n",
    "order = 5\n",
    "K = nx.complete_graph(order)\n",
    "\n",
    "fig = plt.figure(figsize=figsize)\n",
    "nx.draw(K, pos=nx.kamada_kawai_layout(K), node_size=150, with_labels=True)\n",
    "\n",
    "print(f'Adjency matrix:\\n{nx.adjacency_matrix(K).todense()}')"
   ]
  },
  {
   "cell_type": "markdown",
   "id": "67a9185b-d27a-4eb5-a6da-218560a24473",
   "metadata": {},
   "source": [
    "### Examples of completed graphs"
   ]
  },
  {
   "cell_type": "code",
   "execution_count": 39,
   "id": "64bc3148-f46a-4aa2-85a7-a6448f5e9572",
   "metadata": {},
   "outputs": [
    {
     "data": {
      "image/png": "[encoded data removed]",
      "text/plain": [
       "<Figure size 800x100 with 6 Axes>"
      ]
     },
     "metadata": {},
     "output_type": "display_data"
    }
   ],
   "source": [
    "fig, axis = plt.subplots(nrows=1, ncols=6, figsize=(8, 1), )\n",
    "plt.subplots_adjust(left=0, bottom=0, right=1, top=1, wspace=0, hspace=0)\n",
    "\n",
    "for i, order in enumerate(range(3, 9)):\n",
    "    axis[i].set_title((f'K{order}'), fontdict={'fontsize': 10})\n",
    "\n",
    "    K = nx.complete_graph(order)\n",
    "    ax = nx.draw(K, pos=nx.kamada_kawai_layout(K), node_size=150, with_labels=True, ax=axis[i])"
   ]
  },
  {
   "cell_type": "markdown",
   "id": "06af942f-228b-4913-b10a-02aba2ca8ff4",
   "metadata": {},
   "source": [
    "## Defintion 8 - Independent"
   ]
  },
  {
   "cell_type": "markdown",
   "id": "5e51a42d-3072-43d7-a960-b5bda778ba65",
   "metadata": {},
   "source": [
    "A set of vertices or edges is independent if no two of its elements are adjacent. "
   ]
  },
  {
   "cell_type": "markdown",
   "id": "6a733e3c-5d3f-4dbd-8fe5-f56e06e714f1",
   "metadata": {},
   "source": [
    "### Node independent"
   ]
  },
  {
   "cell_type": "code",
   "execution_count": 40,
   "id": "1aa8149b-375b-4117-8842-dcc079655180",
   "metadata": {},
   "outputs": [
    {
     "data": {
      "image/png": "[encoded data removed]",
      "text/plain": [
       "<Figure size 100x100 with 1 Axes>"
      ]
     },
     "metadata": {},
     "output_type": "display_data"
    }
   ],
   "source": [
    "assert G.has_edge(2, 5) == False\n",
    "\n",
    "fig = plt.figure(figsize=figsize)\n",
    "nx.draw(G, pos=pos, node_size=150, with_labels=True)\n",
    "nx.draw_networkx_nodes(G, pos=pos, nodelist=[2, 5], node_size=150, node_color='red');"
   ]
  },
  {
   "cell_type": "markdown",
   "id": "10308927-db4d-4975-9f5b-a1d05a5dc282",
   "metadata": {},
   "source": [
    "### Edge independent"
   ]
  },
  {
   "cell_type": "code",
   "execution_count": 41,
   "id": "14bbf3a0-1a80-49ee-9dc4-79461cebfbe3",
   "metadata": {},
   "outputs": [
    {
     "data": {
      "image/png": "[encoded data removed]",
      "text/plain": [
       "<Figure size 100x100 with 1 Axes>"
      ]
     },
     "metadata": {},
     "output_type": "display_data"
    }
   ],
   "source": [
    "assert (4, 5) not in G.edges(1)\n",
    "\n",
    "fig = plt.figure(figsize=figsize)\n",
    "nx.draw(G, pos=pos, node_size=150, with_labels=True)\n",
    "nx.draw_networkx_edges(G, pos=pos, edgelist=[(4, 5), (1, 2)], edge_color='red', width=5);"
   ]
  },
  {
   "cell_type": "markdown",
   "id": "7a65a631-9bff-46e7-846d-87df8c3fe458",
   "metadata": {
    "tags": []
   },
   "source": [
    "## Definition 9 - Isomorphic "
   ]
  },
  {
   "cell_type": "markdown",
   "id": "948d4112-ce99-4ebf-908e-94549fba70ac",
   "metadata": {},
   "source": [
    "We call $G$ and $H$ isomorphic and write $G \\simeq H$ if there exists a bijections $\\phi: V \\to V^{\\prime}$ with $xy \\in E \\Longleftrightarrow \\phi(x)\\phi(y) \\in E^{\\prime}$ for all $x,y$ in $V$. "
   ]
  },
  {
   "cell_type": "code",
   "execution_count": 55,
   "id": "cc5342ee-6991-41d0-a59c-2f414ef8081a",
   "metadata": {},
   "outputs": [
    {
     "data": {
      "image/png": "[encoded data removed]",
      "text/plain": [
       "<Figure size 200x100 with 2 Axes>"
      ]
     },
     "metadata": {},
     "output_type": "display_data"
    }
   ],
   "source": [
    "relabel_nodes = {1: 'a', 2: 'b', 3: 'c', 4: 'd', 5: 'e', 6: 'f'}\n",
    "\n",
    "H = nx.relabel_nodes(G, mapping=relabel_nodes)\n",
    "\n",
    "assert nx.is_isomorphic(G, H) == True\n",
    "\n",
    "\n",
    "fig, axis = plt.subplots(nrows=1, ncols=2, figsize=(2, 1), )\n",
    "plt.subplots_adjust(left=0, bottom=0, right=1, top=1, wspace=0, hspace=0)\n",
    "axis[0].set_title((f'G'), fontdict={'fontsize': 10})\n",
    "axis[1].set_title((f'H'), fontdict={'fontsize': 10})\n",
    "nx.draw(G, pos=pos, node_size=150, with_labels=True, ax=axis[0])\n",
    "nx.draw(H, pos=nx.kamada_kawai_layout(H), node_size=150, with_labels=True, ax=axis[1])"
   ]
  },
  {
   "cell_type": "markdown",
   "id": "91b1057a-7c5d-4bfe-a4bb-5d5dc9c8b225",
   "metadata": {},
   "source": [
    "## Definition 10 - Property"
   ]
  },
  {
   "cell_type": "markdown",
   "id": "0e3e4adf-221d-4221-bdb8-a9ee3d4acebb",
   "metadata": {},
   "source": [
    "A graph property $Π$ is a class of graphs that is closed under graph isomorphisms. That is, if two graphs $G1$ and $G2$ are isomorphic, both belong to $Π$ or both don’t. \n",
    "\n",
    "Examples: connected graphs, trees, planar graphs, regular graphs"
   ]
  },
  {
   "cell_type": "code",
   "execution_count": 89,
   "id": "7b1f9f8a-7b11-4178-9ad6-b4f7985a4fdc",
   "metadata": {},
   "outputs": [
    {
     "data": {
      "image/png": "[encoded data removed]",
      "text/plain": [
       "<Figure size 200x100 with 2 Axes>"
      ]
     },
     "metadata": {},
     "output_type": "display_data"
    }
   ],
   "source": [
    "G1 = nx.random_regular_graph(3, 6, seed=42)\n",
    "G2 = nx.random_regular_graph(3, 6, seed=24)\n",
    "\n",
    "assert nx.is_isomorphic(G1, G2) == True\n",
    "assert nx.is_regular(G1) == nx.is_regular(H)\n",
    "\n",
    "fig, axis = plt.subplots(nrows=1, ncols=2, figsize=(2, 1), )\n",
    "plt.subplots_adjust(left=0, bottom=0, right=1, top=1, wspace=0, hspace=0)\n",
    "axis[0].set_title((f'G1'), fontdict={'fontsize': 10})\n",
    "axis[1].set_title((f'G2'), fontdict={'fontsize': 10})\n",
    "nx.draw(G1, pos=nx.kamada_kawai_layout(G1), node_size=150, with_labels=True, ax=axis[0])\n",
    "nx.draw(G2, pos=nx.kamada_kawai_layout(G2), node_size=150, with_labels=True, ax=axis[1])"
   ]
  },
  {
   "cell_type": "markdown",
   "id": "0fbae24c-ff2e-43db-b9bb-98c850dde50d",
   "metadata": {},
   "source": [
    "## Defintion 11 - Invariant"
   ]
  },
  {
   "cell_type": "markdown",
   "id": "8ae6e722-9c7c-4f53-a3ac-155c3787183d",
   "metadata": {},
   "source": [
    "A map taking graph as arguments is called a graph invariant if it assign equal values to isomorphic graphs."
   ]
  },
  {
   "cell_type": "markdown",
   "id": "414fd7b7-f704-4775-acb1-34b3ac52d87c",
   "metadata": {},
   "source": [
    "A graph invariant is a property or a quantity associated with a graph that remains unchanged even if the graph undergoes certain transformations, such as relabeling of nodes or edges, or graph isomorphisms. "
   ]
  },
  {
   "cell_type": "code",
   "execution_count": 90,
   "id": "0b559297-8f49-4e1b-8b31-71c4fc831017",
   "metadata": {},
   "outputs": [],
   "source": [
    "G1 = nx.random_regular_graph(3, 6, seed=42)\n",
    "G2 = nx.random_regular_graph(3, 6, seed=24)\n",
    "\n",
    "assert nx.diameter(G1) == nx.diameter(G2) \n",
    "assert G1.number_of_edges() == G2.number_of_edges()\n",
    "assert G1.number_of_nodes() == G2.number_of_nodes()\n",
    "\n",
    "G_degree_sequence = [d for n, d in G1.degree()]\n",
    "H_degree_sequence = [d for n, d in G2.degree()]\n",
    "\n",
    "assert G_degree_sequence == H_degree_sequence "
   ]
  },
  {
   "cell_type": "markdown",
   "id": "7b16d6d3-0aa1-46e0-9137-8f48870025f9",
   "metadata": {},
   "source": [
    "## Defintion 12 - Induced"
   ]
  },
  {
   "cell_type": "markdown",
   "id": "648c80c7-ce06-4a98-88fc-959562212697",
   "metadata": {},
   "source": [
    "If $G\\subseteq G^{\\prime}$ and $G^{\\prime}$ contains all the edges $xy \\subseteq E$ with $x, y \\subseteq V^{\\prime}$ then $G^{\\prime}$ is an inducted subgraph og $G$. We stay that $V^{\\prime}$ induces $G^{\\prime}$ in $G$."
   ]
  },
  {
   "cell_type": "code",
   "execution_count": 194,
   "id": "dc54c60c-d695-400f-b332-d1c2e8b4686f",
   "metadata": {},
   "outputs": [
    {
     "name": "stdout",
     "output_type": "stream",
     "text": [
      "E(H) = {(1, 3), (4, 5), (1, 4), (3, 4), (3, 5)}\n",
      "E(G) = {(1, 2), (1, 3), (4, 5), (5, 6), (1, 4), (3, 4), (3, 5)}\n"
     ]
    },
    {
     "data": {
      "image/png": "[encoded data removed]",
      "text/plain": [
       "<Figure size 100x100 with 1 Axes>"
      ]
     },
     "metadata": {},
     "output_type": "display_data"
    }
   ],
   "source": [
    "H = nx.induced_subgraph(G, [1, 3, 4, 5])\n",
    "\n",
    "assert set(H.edges).issubset(G.edges)\n",
    "assert set(H.nodes).issubset(G.nodes)\n",
    "print(f'E(H) = {set(H.edges)}')\n",
    "print(f'E(G) = {set(G.edges)}')\n",
    "\n",
    "fig = plt.figure(figsize=figsize)\n",
    "nx.draw(H, pos=pos, node_size=150, with_labels=True)\n",
    "\n",
    "nx.draw(G, pos=pos, node_size=150, with_labels=True)\n",
    "nx.draw_networkx_edges(G, pos=pos, edgelist=H.edges, edge_color='red', width=3);"
   ]
  },
  {
   "cell_type": "markdown",
   "id": "60c315fc-a0ee-4e41-9da3-57964de60cc2",
   "metadata": {},
   "source": [
    "## Definition 13 - Spanning"
   ]
  },
  {
   "cell_type": "markdown",
   "id": "5b78d357-4e6c-4f66-bc25-1acfadbc53fd",
   "metadata": {},
   "source": [
    "$G^{\\prime}$ is a spanning subgraph of G if $V^{\\prime}$ spans all of $G$ or $V^{\\prime} = V$. "
   ]
  },
  {
   "cell_type": "code",
   "execution_count": 178,
   "id": "7abdfca8-ea84-47ef-b198-10521e0ae02f",
   "metadata": {},
   "outputs": [
    {
     "data": {
      "image/png": "[encoded data removed]",
      "text/plain": [
       "<Figure size 200x100 with 2 Axes>"
      ]
     },
     "metadata": {},
     "output_type": "display_data"
    }
   ],
   "source": [
    "random_edges = np.random.choice(len(list(G.edges))-1, size=5, replace=False).tolist()\n",
    "random_edges = [list(G.edges)[i] for i in random_edges]\n",
    "\n",
    "H = nx.Graph()\n",
    "H.add_nodes_from(G.nodes)\n",
    "H.add_edges_from(random_edges)\n",
    "\n",
    "assert G.nodes == H.nodes \n",
    "\n",
    "fig, axis = plt.subplots(nrows=1, ncols=2, figsize=(2, 1), )\n",
    "plt.subplots_adjust(left=0, bottom=0, right=1.1, top=1, wspace=0, hspace=0)\n",
    "axis[0].set_title((f'G'), fontdict={'fontsize': 10})\n",
    "axis[1].set_title((f'H'), fontdict={'fontsize': 10})\n",
    "nx.draw(G, pos=nx.kamada_kawai_layout(G), node_size=150, with_labels=True, ax=axis[0])\n",
    "nx.draw(H, pos=nx.kamada_kawai_layout(H), node_size=150, with_labels=True, ax=axis[1])"
   ]
  },
  {
   "cell_type": "markdown",
   "id": "10d81c4e-96e5-4b7c-998e-1f612119c18e",
   "metadata": {},
   "source": [
    "## Definition 14 - Line Graph"
   ]
  },
  {
   "cell_type": "markdown",
   "id": "c2c71c1d-6aac-428f-8d9e-9b93de97c193",
   "metadata": {},
   "source": [
    "The line graph $L(G)$ of $G$ is the graph of $E$ in which $x,y \\in E$ are adjacent as vertices if and only if they are adjacent as edges in $G$. "
   ]
  },
  {
   "cell_type": "code",
   "execution_count": 199,
   "id": "dabee1fa-d008-45ae-a1fb-b00f55968f4d",
   "metadata": {},
   "outputs": [
    {
     "name": "stdout",
     "output_type": "stream",
     "text": [
      "V(L) = {(1, 2), (1, 3), (5, 6), (4, 5), (1, 4), (3, 4), (3, 5)}\n"
     ]
    },
    {
     "data": {
      "image/png": "[encoded data removed]",
      "text/plain": [
       "<Figure size 140x100 with 1 Axes>"
      ]
     },
     "metadata": {},
     "output_type": "display_data"
    }
   ],
   "source": [
    "L = nx.line_graph(G)\n",
    "\n",
    "print(f'V(L) = {set(L.nodes)}')\n",
    "\n",
    "fig = plt.figure(figsize=(1.4, 1))\n",
    "nx.draw(L, pos=nx.kamada_kawai_layout(L), node_size=100, with_labels=True,font_size=10)"
   ]
  },
  {
   "cell_type": "markdown",
   "id": "f525036e-9455-47a3-98b7-1c0d3facf29f",
   "metadata": {},
   "source": [
    "## Definition 15 - Neighbors $N_{G}(v_i)$"
   ]
  },
  {
   "cell_type": "markdown",
   "id": "3e9c58cd-79c9-429a-a230-a3f7801dc56c",
   "metadata": {},
   "source": [
    "The set of neighbors of a vertex v."
   ]
  },
  {
   "cell_type": "code",
   "execution_count": 209,
   "id": "2dc2a1f6-a5b1-4879-a0c2-befb722fbb4c",
   "metadata": {},
   "outputs": [
    {
     "name": "stdout",
     "output_type": "stream",
     "text": [
      "Neighbors for vertex 1 = {2, 3, 4}\n"
     ]
    },
    {
     "data": {
      "image/png": "[encoded data removed]",
      "text/plain": [
       "<Figure size 100x100 with 1 Axes>"
      ]
     },
     "metadata": {},
     "output_type": "display_data"
    }
   ],
   "source": [
    "vertex = 1\n",
    "neighbors = set(nx.neighbors(G, vertex))\n",
    "print(f'Neighbors for vertex {vertex} = {neighbors}')\n",
    "\n",
    "fig = plt.figure(figsize=figsize)\n",
    "nx.draw(G, pos=pos, node_size=150, with_labels=True)\n",
    "nx.draw_networkx_nodes(G, pos=pos, nodelist=neighbors, node_size=150, node_color='red');"
   ]
  },
  {
   "cell_type": "markdown",
   "id": "1e7bb06d-716d-4c15-b881-a396ff944031",
   "metadata": {},
   "source": [
    "## Definition 16 - Degree"
   ]
  },
  {
   "cell_type": "markdown",
   "id": "aedcb1b7-d874-442d-8326-b7e42c998d4d",
   "metadata": {},
   "source": [
    "The degree $d(V)$ of vertex $v$ is the number $|E(v)|$ of edges at v or number of neighbors of $v$."
   ]
  },
  {
   "cell_type": "code",
   "execution_count": 214,
   "id": "a3ca218c-2321-4e70-92b4-725c9959b708",
   "metadata": {},
   "outputs": [],
   "source": [
    "vertex = 1\n",
    "assert nx.degree(G, vertex) == len(set(nx.neighbors(G, vertex)))"
   ]
  },
  {
   "cell_type": "markdown",
   "id": "4e5fb410-120f-49ce-acf2-260c881ca61c",
   "metadata": {},
   "source": [
    "## Definition 17 - Isolated"
   ]
  },
  {
   "cell_type": "markdown",
   "id": "b7b70c2e-b40f-411f-bd7d-7a24a217c9e3",
   "metadata": {},
   "source": [
    "A vertex of degree $0$ is isolated."
   ]
  },
  {
   "cell_type": "code",
   "execution_count": 221,
   "id": "2b23bca0-9607-4281-abad-fcca65421cc8",
   "metadata": {},
   "outputs": [
    {
     "data": {
      "image/png": "[encoded data removed]",
      "text/plain": [
       "<Figure size 100x100 with 1 Axes>"
      ]
     },
     "metadata": {},
     "output_type": "display_data"
    }
   ],
   "source": [
    "H = G.copy()\n",
    "H.add_node(7)  # Vertex 7 is isolated.\n",
    "\n",
    "assert nx.degree(H, 7) == 0\n",
    "\n",
    "fig = plt.figure(figsize=figsize)\n",
    "new_pos = pos=nx.kamada_kawai_layout(H)\n",
    "nx.draw(H, pos=new_pos, node_size=150, with_labels=True)\n",
    "nx.draw_networkx_nodes(new_pos, pos=pos, nodelist=[7], node_size=150, node_color='red');"
   ]
  },
  {
   "cell_type": "code",
   "execution_count": null,
   "id": "6d1e6f2d-be86-4d17-8d6b-38345deb08c8",
   "metadata": {},
   "outputs": [],
   "source": []
  },
  {
   "cell_type": "code",
   "execution_count": null,
   "id": "5d2751d8-91f0-4b77-98e9-1cb8da5c64fc",
   "metadata": {},
   "outputs": [],
   "source": []
  },
  {
   "cell_type": "markdown",
   "id": "f4e9d9df-3c66-4efd-8d83-3957c53e158d",
   "metadata": {},
   "source": [
    "# IN PROGRESS"
   ]
  },
  {
   "cell_type": "code",
   "execution_count": null,
   "id": "669784ee-9045-4658-8810-20b85d00509b",
   "metadata": {},
   "outputs": [],
   "source": []
  }
 ],
 "metadata": {
  "environment": {
   "kernel": "python3",
   "name": "common-cpu.m103",
   "type": "gcloud",
   "uri": "gcr.io/deeplearning-platform-release/base-cpu:m103"
  },
  "kernelspec": {
   "display_name": "Python 3",
   "language": "python",
   "name": "python3"
  },
  "language_info": {
   "codemirror_mode": {
    "name": "ipython",
    "version": 3
   },
   "file_extension": ".py",
   "mimetype": "text/x-python",
   "name": "python",
   "nbconvert_exporter": "python",
   "pygments_lexer": "ipython3",
   "version": "3.7.12"
  }
 },
 "nbformat": 4,
 "nbformat_minor": 5
}
