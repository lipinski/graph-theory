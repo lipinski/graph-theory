{
 "cells": [
  {
   "cell_type": "code",
   "execution_count": 1,
   "id": "772881aa-441a-4cbc-b63c-90be5ed4290a",
   "metadata": {},
   "outputs": [],
   "source": [
    "import matplotlib.pyplot as plt\n",
    "import networkx as nx\n",
    "import numpy as np"
   ]
  },
  {
   "cell_type": "code",
   "execution_count": 2,
   "id": "d6d0e23b-de6b-4b44-80a8-c990547fb58d",
   "metadata": {},
   "outputs": [
    {
     "name": "stdout",
     "output_type": "stream",
     "text": [
      "Graph with 6 nodes and 7 edges\n"
     ]
    },
    {
     "data": {
      "image/png": "[encoded data removed]",
      "text/plain": [
       "<Figure size 100x100 with 1 Axes>"
      ]
     },
     "metadata": {},
     "output_type": "display_data"
    }
   ],
   "source": [
    "figsize=(1, 1)\n",
    "fig = plt.figure(figsize=figsize)\n",
    "G = nx.Graph([(1, 2), (1, 3), (1, 4), (3, 4), (3, 5), (4, 5), (5, 6)])\n",
    "\n",
    "print(nx.info(G))\n",
    "pos = nx.kamada_kawai_layout(G)\n",
    "nx.draw(G, pos=pos, node_size=150, with_labels=True)"
   ]
  },
  {
   "cell_type": "markdown",
   "id": "539fa5b3-423e-4e8f-8e5d-c34c1ebcf88e",
   "metadata": {},
   "source": [
    "# Definitions"
   ]
  },
  {
   "cell_type": "markdown",
   "id": "08e5fdac-c9a2-435e-985f-25db5147241b",
   "metadata": {},
   "source": [
    "## Definition 1 - Partition of A"
   ]
  },
  {
   "cell_type": "markdown",
   "id": "29e3c133-81c4-4a90-a2da-8023a76b4d02",
   "metadata": {},
   "source": [
    "A set $A = A_1,..,A_k$ of disjoint subsets of a set $A$ is a parition of $A$ if $\\cup A$ of all sets $A_i$ and $A \\neq\\emptyset$ for every i."
   ]
  },
  {
   "cell_type": "code",
   "execution_count": 3,
   "id": "35670c88-3f5f-49d6-8a1e-b1d175e4fb22",
   "metadata": {},
   "outputs": [
    {
     "data": {
      "text/plain": [
       "True"
      ]
     },
     "execution_count": 3,
     "metadata": {},
     "output_type": "execute_result"
    }
   ],
   "source": [
    "A = {1, 2, 3, 4, 5, 6} \n",
    "\n",
    "A_1 = {1, 2}\n",
    "A_2 = {3, 4}\n",
    "A_3 = {5, 6}\n",
    "\n",
    "A == A_1 | A_2 | A_3"
   ]
  },
  {
   "cell_type": "markdown",
   "id": "939de1e3-7906-4a52-b448-f5b53e41585d",
   "metadata": {},
   "source": [
    "## Definition 2 - Vertex set"
   ]
  },
  {
   "cell_type": "markdown",
   "id": "b019492f-4175-4b5e-926b-95bfcbd466b9",
   "metadata": {},
   "source": [
    "The set of vertices in a graph denoted by $V(G)$."
   ]
  },
  {
   "cell_type": "code",
   "execution_count": 4,
   "id": "1b8c6c3b-dbdd-44e8-b1ba-112e5f45cdc1",
   "metadata": {},
   "outputs": [
    {
     "name": "stdout",
     "output_type": "stream",
     "text": [
      "Vertex set V(G) = {1, 2, 3, 4, 5, 6}\n"
     ]
    },
    {
     "data": {
      "image/png": "[encoded data removed]",
      "text/plain": [
       "<Figure size 100x100 with 1 Axes>"
      ]
     },
     "metadata": {},
     "output_type": "display_data"
    }
   ],
   "source": [
    "fig = plt.figure(figsize=figsize)\n",
    "nx.draw(G, pos=pos, node_size=150, with_labels=True)\n",
    "\n",
    "print(f'Vertex set V(G) = {set(G.nodes)}')"
   ]
  },
  {
   "cell_type": "markdown",
   "id": "2489dec1-955c-4637-b561-f48186bc87c3",
   "metadata": {},
   "source": [
    "## Definition 3 - Edge set"
   ]
  },
  {
   "cell_type": "markdown",
   "id": "a124cc73-de56-4a3c-a3e9-1870c360e78d",
   "metadata": {},
   "source": [
    "The set of edges in a graph denoted by $E(G)$."
   ]
  },
  {
   "cell_type": "code",
   "execution_count": 5,
   "id": "63136239-9f49-4dd8-9fb3-149755fda83a",
   "metadata": {},
   "outputs": [
    {
     "name": "stdout",
     "output_type": "stream",
     "text": [
      "Edge set E(G) = {(1, 2), (1, 3), (4, 5), (5, 6), (1, 4), (3, 4), (3, 5)}\n"
     ]
    },
    {
     "data": {
      "image/png": "[encoded data removed]",
      "text/plain": [
       "<Figure size 100x100 with 1 Axes>"
      ]
     },
     "metadata": {},
     "output_type": "display_data"
    }
   ],
   "source": [
    "fig = plt.figure(figsize=figsize)\n",
    "nx.draw(G, pos=pos, node_size=150, with_labels=True)\n",
    "\n",
    "print(f'Edge set E(G) = {set(G.edges)}')"
   ]
  },
  {
   "cell_type": "markdown",
   "id": "15ec2678-5e03-4c8e-830e-1131b3a79f38",
   "metadata": {},
   "source": [
    "## Definition 4 - Order"
   ]
  },
  {
   "cell_type": "markdown",
   "id": "96f79921-227f-4b1b-9662-de92962fda88",
   "metadata": {},
   "source": [
    "The number of vertices in a graph denoted by $|V|$."
   ]
  },
  {
   "cell_type": "code",
   "execution_count": 6,
   "id": "c4416128-3eb6-4282-8c09-015fd0b6e7bb",
   "metadata": {},
   "outputs": [
    {
     "name": "stdout",
     "output_type": "stream",
     "text": [
      "Order |V| = 6\n"
     ]
    },
    {
     "data": {
      "image/png": "[encoded data removed]",
      "text/plain": [
       "<Figure size 100x100 with 1 Axes>"
      ]
     },
     "metadata": {},
     "output_type": "display_data"
    }
   ],
   "source": [
    "order = G.order()\n",
    "assert order == len(G.nodes)\n",
    "\n",
    "fig = plt.figure(figsize=figsize)\n",
    "nx.draw(G, pos=pos, node_size=150, with_labels=True)\n",
    "nx.draw_networkx_nodes(G, pos=pos, nodelist=G.nodes, node_size=150, node_color='red')\n",
    "\n",
    "print(f'Order |V| = {order}')"
   ]
  },
  {
   "cell_type": "markdown",
   "id": "0137ee2b-6348-4dda-af88-7e88551bda33",
   "metadata": {},
   "source": [
    "## Definition 5 - Size"
   ]
  },
  {
   "cell_type": "markdown",
   "id": "5cb05438-60c9-49c0-a919-8d579d6070cc",
   "metadata": {},
   "source": [
    "The number of edges in a graph denoted by $|E|$."
   ]
  },
  {
   "cell_type": "code",
   "execution_count": 7,
   "id": "13fc4f46-6a8d-4d0c-a789-2e6f0f53c1a9",
   "metadata": {},
   "outputs": [
    {
     "name": "stdout",
     "output_type": "stream",
     "text": [
      "Size |E| = 7\n"
     ]
    },
    {
     "data": {
      "image/png": "[encoded data removed]",
      "text/plain": [
       "<Figure size 100x100 with 1 Axes>"
      ]
     },
     "metadata": {},
     "output_type": "display_data"
    }
   ],
   "source": [
    "size = G.size()\n",
    "assert size == len(G.edges)\n",
    "\n",
    "fig = plt.figure(figsize=figsize)\n",
    "nx.draw(G, pos=pos, node_size=150, with_labels=True)\n",
    "nx.draw_networkx_edges(G, pos=pos, edgelist=G.edges, edge_color='red')\n",
    "\n",
    "print(f'Size |E| = {size}')"
   ]
  },
  {
   "cell_type": "markdown",
   "id": "f3b51e0f-85e7-4d05-9118-084831934b15",
   "metadata": {},
   "source": [
    "## Definition 5 - Incident"
   ]
  },
  {
   "cell_type": "markdown",
   "id": "c110c05c-c19e-4267-9dcc-f2df89555c76",
   "metadata": {},
   "source": [
    "A vertex $v$ is incident with an edge $e$ if $v \\in e$ then $e$ is an edge at $v$. "
   ]
  },
  {
   "cell_type": "code",
   "execution_count": 8,
   "id": "3addc2b3-c7ca-45a1-b9c2-32ce1f591984",
   "metadata": {},
   "outputs": [
    {
     "name": "stdout",
     "output_type": "stream",
     "text": [
      "Incident edges for v_1  = [(1, 2), (1, 3), (1, 4)]\n"
     ]
    },
    {
     "data": {
      "image/png": "[encoded data removed]",
      "text/plain": [
       "<Figure size 100x100 with 1 Axes>"
      ]
     },
     "metadata": {},
     "output_type": "display_data"
    }
   ],
   "source": [
    "node = 1\n",
    "incident_edges = G.edges(node)\n",
    "\n",
    "fig = plt.figure(figsize=figsize)\n",
    "nx.draw(G, pos=pos, node_size=150, with_labels=True)\n",
    "nx.draw_networkx_edges(G, pos=pos, edgelist=incident_edges, edge_color='red', width=5)\n",
    "\n",
    "print(f'Incident edges for v_{node}  = {incident_edges}')"
   ]
  },
  {
   "cell_type": "markdown",
   "id": "aaa50ce7-e33c-41b6-a83b-b1b3dc31359d",
   "metadata": {},
   "source": [
    "### Incidence matrix"
   ]
  },
  {
   "cell_type": "markdown",
   "id": "3f55bebf-7dc1-439d-8d1f-2132abdd9eb2",
   "metadata": {},
   "source": [
    "The incidence matrix is a matrix in which each row of the matrix corresponds to a vertex in the graph, and each column corresponds to an edge. The entry in row i and column j is 1 if vertex i is incident to edge j, and 0 otherwise. In directed graphs, the entries can be either 1, -1 or 0, depending on the direction of the edge."
   ]
  },
  {
   "cell_type": "code",
   "execution_count": 9,
   "id": "fe618fd8-0546-4924-a69f-f6b5443ed1c2",
   "metadata": {},
   "outputs": [
    {
     "name": "stdout",
     "output_type": "stream",
     "text": [
      "Incident matrix:\n",
      "[[1. 1. 1. 0. 0. 0. 0.]\n",
      " [1. 0. 0. 0. 0. 0. 0.]\n",
      " [0. 1. 0. 1. 1. 0. 0.]\n",
      " [0. 0. 1. 1. 0. 1. 0.]\n",
      " [0. 0. 0. 0. 1. 1. 1.]\n",
      " [0. 0. 0. 0. 0. 0. 1.]]\n"
     ]
    }
   ],
   "source": [
    "incidence_matrix = nx.incidence_matrix(G)\n",
    "\n",
    "assert incidence_matrix.shape[0] == G.order()\n",
    "assert incidence_matrix.shape[1] == G.size()\n",
    "\n",
    "print(f'Incident matrix:\\n{incidence_matrix.todense()}')"
   ]
  },
  {
   "cell_type": "markdown",
   "id": "6c780e87-f6e3-408d-9452-0b1b2c306069",
   "metadata": {},
   "source": [
    "## Definition 6 - Adjacent"
   ]
  },
  {
   "cell_type": "markdown",
   "id": "01c43515-846f-41f2-a6dd-5adfa7eac024",
   "metadata": {},
   "source": [
    "Two vertices $x$,$y$ of $G$ are adjacent if $xy$ is is an edge of $G$."
   ]
  },
  {
   "cell_type": "code",
   "execution_count": 10,
   "id": "8205d4ff-6757-4f13-8ffa-12bff268d12a",
   "metadata": {},
   "outputs": [
    {
     "name": "stdout",
     "output_type": "stream",
     "text": [
      "Adjacent edges for v_1  = [(1, 2), (1, 3), (1, 4)]\n"
     ]
    },
    {
     "data": {
      "image/png": "[encoded data removed]",
      "text/plain": [
       "<Figure size 100x100 with 1 Axes>"
      ]
     },
     "metadata": {},
     "output_type": "display_data"
    }
   ],
   "source": [
    "node = 1\n",
    "adjacent_nodes = list(G.adj[node].keys())\n",
    "\n",
    "fig = plt.figure(figsize=figsize)\n",
    "nx.draw(G, pos=pos, node_size=150, with_labels=True)\n",
    "nx.draw_networkx_nodes(G, pos=pos, nodelist=adjacent_nodes, node_size=150, node_color='red')\n",
    "\n",
    "# Check if vertices 1, 3 are adjacent.\n",
    "assert G.has_edge(1, 3)\n",
    "# Check if vertices 1, 6 are not adjacent.\n",
    "assert G.has_edge(1, 6) == False\n",
    "\n",
    "print(f'Adjacent edges for v_{node}  = {incident_edges}')"
   ]
  },
  {
   "cell_type": "markdown",
   "id": "703f83bd-f2a4-40b4-8d3e-f5bc3f18cded",
   "metadata": {},
   "source": [
    "### Adjacency matrix"
   ]
  },
  {
   "cell_type": "markdown",
   "id": "3b0518cd-5bac-4d22-9658-7145b84c978b",
   "metadata": {},
   "source": [
    "An adjacency matrix is a square matrix used to represent a finite graph. The elements of the matrix indicate whether pairs of vertices are adjacent or not in the graph."
   ]
  },
  {
   "cell_type": "code",
   "execution_count": 11,
   "id": "c2beeb31-f986-4ced-90c4-a5df2df4ae37",
   "metadata": {},
   "outputs": [
    {
     "name": "stdout",
     "output_type": "stream",
     "text": [
      "Adjency matrix:\n",
      "[[0 1 1 1 0 0]\n",
      " [1 0 0 0 0 0]\n",
      " [1 0 0 1 1 0]\n",
      " [1 0 1 0 1 0]\n",
      " [0 0 1 1 0 1]\n",
      " [0 0 0 0 1 0]]\n"
     ]
    }
   ],
   "source": [
    "print(f'Adjency matrix:\\n{nx.adjacency_matrix(G).todense()}')"
   ]
  },
  {
   "cell_type": "markdown",
   "id": "f1164595-39a4-45fe-b1d4-09491d72c4a9",
   "metadata": {},
   "source": [
    "## Definition 7 - Complete"
   ]
  },
  {
   "cell_type": "markdown",
   "id": "d1deb00c-26b4-4aea-8fc7-6767be5339ba",
   "metadata": {},
   "source": [
    "If all vertices of G are pairwise adjacent thet $G$ is complete."
   ]
  },
  {
   "cell_type": "code",
   "execution_count": 12,
   "id": "e22a3f9a-968c-4871-baae-b09981b56b34",
   "metadata": {},
   "outputs": [
    {
     "name": "stdout",
     "output_type": "stream",
     "text": [
      "Adjency matrix:\n",
      "[[0 1 1 1 1]\n",
      " [1 0 1 1 1]\n",
      " [1 1 0 1 1]\n",
      " [1 1 1 0 1]\n",
      " [1 1 1 1 0]]\n"
     ]
    },
    {
     "data": {
      "image/png": "[encoded data removed]",
      "text/plain": [
       "<Figure size 100x100 with 1 Axes>"
      ]
     },
     "metadata": {},
     "output_type": "display_data"
    }
   ],
   "source": [
    "# Generate complete graph K\n",
    "order = 5\n",
    "K = nx.complete_graph(order)\n",
    "\n",
    "fig = plt.figure(figsize=figsize)\n",
    "nx.draw(K, pos=nx.kamada_kawai_layout(K), node_size=150, with_labels=True)\n",
    "\n",
    "print(f'Adjency matrix:\\n{nx.adjacency_matrix(K).todense()}')"
   ]
  },
  {
   "cell_type": "markdown",
   "id": "67a9185b-d27a-4eb5-a6da-218560a24473",
   "metadata": {},
   "source": [
    "### Examples of completed graphs"
   ]
  },
  {
   "cell_type": "markdown",
   "id": "febd6745-6050-4337-b64b-1343f0779091",
   "metadata": {},
   "source": [
    "*Note: The graph $K_2$ is sometimes denoted by $Q_1$ (1-cube).* "
   ]
  },
  {
   "cell_type": "code",
   "execution_count": 13,
   "id": "64bc3148-f46a-4aa2-85a7-a6448f5e9572",
   "metadata": {},
   "outputs": [
    {
     "data": {
      "image/png": "[encoded data removed]",
      "text/plain": [
       "<Figure size 800x100 with 6 Axes>"
      ]
     },
     "metadata": {},
     "output_type": "display_data"
    }
   ],
   "source": [
    "fig, axis = plt.subplots(nrows=1, ncols=6, figsize=(8, 1), )\n",
    "plt.subplots_adjust(left=0, bottom=0, right=1, top=1, wspace=0.1, hspace=0)\n",
    "\n",
    "for i, order in enumerate(range(1, 7)):\n",
    "    axis[i].set_title((f'K{order}'), fontdict={'fontsize': 10})\n",
    "\n",
    "    K = nx.complete_graph(order)\n",
    "    ax = nx.draw(K, pos=nx.kamada_kawai_layout(K), node_size=150, with_labels=True, ax=axis[i])"
   ]
  },
  {
   "cell_type": "markdown",
   "id": "06af942f-228b-4913-b10a-02aba2ca8ff4",
   "metadata": {},
   "source": [
    "## Defintion 8 - Independent"
   ]
  },
  {
   "cell_type": "markdown",
   "id": "5e51a42d-3072-43d7-a960-b5bda778ba65",
   "metadata": {},
   "source": [
    "A set of vertices or edges is independent if no two of its elements are adjacent. "
   ]
  },
  {
   "cell_type": "markdown",
   "id": "6a733e3c-5d3f-4dbd-8fe5-f56e06e714f1",
   "metadata": {},
   "source": [
    "### Node independent"
   ]
  },
  {
   "cell_type": "code",
   "execution_count": 14,
   "id": "1aa8149b-375b-4117-8842-dcc079655180",
   "metadata": {},
   "outputs": [
    {
     "data": {
      "image/png": "[encoded data removed]",
      "text/plain": [
       "<Figure size 100x100 with 1 Axes>"
      ]
     },
     "metadata": {},
     "output_type": "display_data"
    }
   ],
   "source": [
    "assert G.has_edge(2, 5) == False\n",
    "\n",
    "fig = plt.figure(figsize=figsize)\n",
    "nx.draw(G, pos=pos, node_size=150, with_labels=True)\n",
    "nx.draw_networkx_nodes(G, pos=pos, nodelist=[2, 5], node_size=150, node_color='red');"
   ]
  },
  {
   "cell_type": "markdown",
   "id": "10308927-db4d-4975-9f5b-a1d05a5dc282",
   "metadata": {},
   "source": [
    "### Edge independent"
   ]
  },
  {
   "cell_type": "code",
   "execution_count": 15,
   "id": "14bbf3a0-1a80-49ee-9dc4-79461cebfbe3",
   "metadata": {},
   "outputs": [
    {
     "data": {
      "image/png": "[encoded data removed]",
      "text/plain": [
       "<Figure size 100x100 with 1 Axes>"
      ]
     },
     "metadata": {},
     "output_type": "display_data"
    }
   ],
   "source": [
    "assert (4, 5) not in G.edges(1)\n",
    "\n",
    "fig = plt.figure(figsize=figsize)\n",
    "nx.draw(G, pos=pos, node_size=150, with_labels=True)\n",
    "nx.draw_networkx_edges(G, pos=pos, edgelist=[(4, 5), (1, 2)], edge_color='red', width=5);"
   ]
  },
  {
   "cell_type": "markdown",
   "id": "7a65a631-9bff-46e7-846d-87df8c3fe458",
   "metadata": {
    "tags": []
   },
   "source": [
    "## Definition 9 - Isomorphic "
   ]
  },
  {
   "cell_type": "markdown",
   "id": "948d4112-ce99-4ebf-908e-94549fba70ac",
   "metadata": {},
   "source": [
    "We call $G$ and $H$ isomorphic and write $G \\simeq H$ if there exists a bijections $\\phi: V \\to V^{\\prime}$ with $xy \\in E \\Longleftrightarrow \\phi(x)\\phi(y) \\in E^{\\prime}$ for all $x,y$ in $V$. "
   ]
  },
  {
   "cell_type": "code",
   "execution_count": 16,
   "id": "cc5342ee-6991-41d0-a59c-2f414ef8081a",
   "metadata": {},
   "outputs": [
    {
     "data": {
      "image/png": "[encoded data removed]",
      "text/plain": [
       "<Figure size 200x100 with 2 Axes>"
      ]
     },
     "metadata": {},
     "output_type": "display_data"
    }
   ],
   "source": [
    "relabel_nodes = {1: 'a', 2: 'b', 3: 'c', 4: 'd', 5: 'e', 6: 'f'}\n",
    "\n",
    "H = nx.relabel_nodes(G, mapping=relabel_nodes)\n",
    "\n",
    "assert nx.is_isomorphic(G, H) == True\n",
    "\n",
    "\n",
    "fig, axis = plt.subplots(nrows=1, ncols=2, figsize=(2, 1), )\n",
    "plt.subplots_adjust(left=0, bottom=0, right=1, top=1, wspace=0, hspace=0)\n",
    "axis[0].set_title((f'G'), fontdict={'fontsize': 10})\n",
    "axis[1].set_title((f'H'), fontdict={'fontsize': 10})\n",
    "nx.draw(G, pos=pos, node_size=150, with_labels=True, ax=axis[0])\n",
    "nx.draw(H, pos=nx.kamada_kawai_layout(H), node_size=150, with_labels=True, ax=axis[1])"
   ]
  },
  {
   "cell_type": "markdown",
   "id": "91b1057a-7c5d-4bfe-a4bb-5d5dc9c8b225",
   "metadata": {},
   "source": [
    "## Definition 10 - Property"
   ]
  },
  {
   "cell_type": "markdown",
   "id": "0e3e4adf-221d-4221-bdb8-a9ee3d4acebb",
   "metadata": {},
   "source": [
    "A graph property $Π$ is a class of graphs that is closed under graph isomorphisms. That is, if two graphs $G1$ and $G2$ are isomorphic, both belong to $Π$ or both don’t. \n",
    "\n",
    "Examples: connected graphs, trees, planar graphs, regular graphs"
   ]
  },
  {
   "cell_type": "code",
   "execution_count": 17,
   "id": "7b1f9f8a-7b11-4178-9ad6-b4f7985a4fdc",
   "metadata": {},
   "outputs": [
    {
     "data": {
      "image/png": "[encoded data removed]",
      "text/plain": [
       "<Figure size 200x100 with 2 Axes>"
      ]
     },
     "metadata": {},
     "output_type": "display_data"
    }
   ],
   "source": [
    "G1 = nx.random_regular_graph(3, 6, seed=42)\n",
    "G2 = nx.random_regular_graph(3, 6, seed=24)\n",
    "\n",
    "assert nx.is_isomorphic(G1, G2) == True\n",
    "assert nx.is_regular(G1) == nx.is_regular(G2)\n",
    "\n",
    "fig, axis = plt.subplots(nrows=1, ncols=2, figsize=(2, 1), )\n",
    "plt.subplots_adjust(left=0, bottom=0, right=1, top=1, wspace=0, hspace=0)\n",
    "axis[0].set_title((f'G1'), fontdict={'fontsize': 10})\n",
    "axis[1].set_title((f'G2'), fontdict={'fontsize': 10})\n",
    "nx.draw(G1, pos=nx.kamada_kawai_layout(G1), node_size=150, with_labels=True, ax=axis[0])\n",
    "nx.draw(G2, pos=nx.kamada_kawai_layout(G2), node_size=150, with_labels=True, ax=axis[1])"
   ]
  },
  {
   "cell_type": "markdown",
   "id": "0fbae24c-ff2e-43db-b9bb-98c850dde50d",
   "metadata": {},
   "source": [
    "## Definition 11 - Invariant"
   ]
  },
  {
   "cell_type": "markdown",
   "id": "8ae6e722-9c7c-4f53-a3ac-155c3787183d",
   "metadata": {},
   "source": [
    "A map taking graph as arguments is called a graph invariant if it assign equal values to isomorphic graphs."
   ]
  },
  {
   "cell_type": "markdown",
   "id": "414fd7b7-f704-4775-acb1-34b3ac52d87c",
   "metadata": {},
   "source": [
    "A graph invariant is a property or a quantity associated with a graph that remains unchanged even if the graph undergoes certain transformations, such as relabeling of nodes or edges, or graph isomorphisms. "
   ]
  },
  {
   "cell_type": "code",
   "execution_count": 18,
   "id": "0b559297-8f49-4e1b-8b31-71c4fc831017",
   "metadata": {},
   "outputs": [],
   "source": [
    "G1 = nx.random_regular_graph(3, 6, seed=42)\n",
    "G2 = nx.random_regular_graph(3, 6, seed=24)\n",
    "\n",
    "assert nx.diameter(G1) == nx.diameter(G2) \n",
    "assert G1.number_of_edges() == G2.number_of_edges()\n",
    "assert G1.number_of_nodes() == G2.number_of_nodes()\n",
    "\n",
    "G_degree_sequence = [d for n, d in G1.degree()]\n",
    "H_degree_sequence = [d for n, d in G2.degree()]\n",
    "\n",
    "assert G_degree_sequence == H_degree_sequence "
   ]
  },
  {
   "cell_type": "markdown",
   "id": "7b16d6d3-0aa1-46e0-9137-8f48870025f9",
   "metadata": {},
   "source": [
    "## Defintion 12 - Induced"
   ]
  },
  {
   "cell_type": "markdown",
   "id": "648c80c7-ce06-4a98-88fc-959562212697",
   "metadata": {},
   "source": [
    "If $G\\subseteq G^{\\prime}$ and $G^{\\prime}$ contains all the edges $xy \\subseteq E$ with $x, y \\subseteq V^{\\prime}$ then $G^{\\prime}$ is an inducted subgraph og $G$. We stay that $V^{\\prime}$ induces $G^{\\prime}$ in $G$."
   ]
  },
  {
   "cell_type": "code",
   "execution_count": 19,
   "id": "dc54c60c-d695-400f-b332-d1c2e8b4686f",
   "metadata": {},
   "outputs": [
    {
     "name": "stdout",
     "output_type": "stream",
     "text": [
      "E(H) = {(1, 3), (4, 5), (1, 4), (3, 4), (3, 5)}\n",
      "E(G) = {(1, 2), (1, 3), (4, 5), (5, 6), (1, 4), (3, 4), (3, 5)}\n"
     ]
    },
    {
     "data": {
      "image/png": "[encoded data removed]",
      "text/plain": [
       "<Figure size 100x100 with 1 Axes>"
      ]
     },
     "metadata": {},
     "output_type": "display_data"
    }
   ],
   "source": [
    "H = nx.induced_subgraph(G, [1, 3, 4, 5])\n",
    "\n",
    "assert set(H.edges).issubset(G.edges)\n",
    "assert set(H.nodes).issubset(G.nodes)\n",
    "print(f'E(H) = {set(H.edges)}')\n",
    "print(f'E(G) = {set(G.edges)}')\n",
    "\n",
    "fig = plt.figure(figsize=figsize)\n",
    "nx.draw(H, pos=pos, node_size=150, with_labels=True)\n",
    "\n",
    "nx.draw(G, pos=pos, node_size=150, with_labels=True)\n",
    "nx.draw_networkx_edges(G, pos=pos, edgelist=H.edges, edge_color='red', width=3);"
   ]
  },
  {
   "cell_type": "markdown",
   "id": "60c315fc-a0ee-4e41-9da3-57964de60cc2",
   "metadata": {},
   "source": [
    "## Definition 13 - Spanning"
   ]
  },
  {
   "cell_type": "markdown",
   "id": "5b78d357-4e6c-4f66-bc25-1acfadbc53fd",
   "metadata": {},
   "source": [
    "$G^{\\prime}$ is a spanning subgraph of G if $V^{\\prime}$ spans all of $G$ or $V^{\\prime} = V$. "
   ]
  },
  {
   "cell_type": "code",
   "execution_count": 20,
   "id": "7abdfca8-ea84-47ef-b198-10521e0ae02f",
   "metadata": {},
   "outputs": [
    {
     "data": {
      "image/png": "[encoded data removed]",
      "text/plain": [
       "<Figure size 200x100 with 2 Axes>"
      ]
     },
     "metadata": {},
     "output_type": "display_data"
    }
   ],
   "source": [
    "random_edges = np.random.choice(len(list(G.edges))-1, size=5, replace=False).tolist()\n",
    "random_edges = [list(G.edges)[i] for i in random_edges]\n",
    "\n",
    "H = nx.Graph()\n",
    "H.add_nodes_from(G.nodes)\n",
    "H.add_edges_from(random_edges)\n",
    "\n",
    "assert G.nodes == H.nodes \n",
    "\n",
    "fig, axis = plt.subplots(nrows=1, ncols=2, figsize=(2, 1), )\n",
    "plt.subplots_adjust(left=0, bottom=0, right=1.1, top=1, wspace=0, hspace=0)\n",
    "axis[0].set_title((f'G'), fontdict={'fontsize': 10})\n",
    "axis[1].set_title((f'H'), fontdict={'fontsize': 10})\n",
    "nx.draw(G, pos=nx.kamada_kawai_layout(G), node_size=150, with_labels=True, ax=axis[0])\n",
    "nx.draw(H, pos=nx.kamada_kawai_layout(H), node_size=150, with_labels=True, ax=axis[1])"
   ]
  },
  {
   "cell_type": "markdown",
   "id": "10d81c4e-96e5-4b7c-998e-1f612119c18e",
   "metadata": {},
   "source": [
    "## Definition 14 - Line Graph"
   ]
  },
  {
   "cell_type": "markdown",
   "id": "c2c71c1d-6aac-428f-8d9e-9b93de97c193",
   "metadata": {},
   "source": [
    "The line graph $L(G)$ of $G$ is the graph of $E$ in which $x,y \\in E$ are adjacent as vertices if and only if they are adjacent as edges in $G$. "
   ]
  },
  {
   "cell_type": "code",
   "execution_count": 21,
   "id": "dabee1fa-d008-45ae-a1fb-b00f55968f4d",
   "metadata": {},
   "outputs": [
    {
     "name": "stdout",
     "output_type": "stream",
     "text": [
      "V(L) = {(1, 2), (1, 3), (5, 6), (4, 5), (1, 4), (3, 4), (3, 5)}\n"
     ]
    },
    {
     "data": {
      "image/png": "[encoded data removed]",
      "text/plain": [
       "<Figure size 140x100 with 1 Axes>"
      ]
     },
     "metadata": {},
     "output_type": "display_data"
    }
   ],
   "source": [
    "L = nx.line_graph(G)\n",
    "\n",
    "print(f'V(L) = {set(L.nodes)}')\n",
    "\n",
    "fig = plt.figure(figsize=(1.4, 1))\n",
    "nx.draw(L, pos=nx.kamada_kawai_layout(L), node_size=100, with_labels=True,font_size=10)"
   ]
  },
  {
   "cell_type": "markdown",
   "id": "f525036e-9455-47a3-98b7-1c0d3facf29f",
   "metadata": {},
   "source": [
    "## Definition 15 - Neighbors $N_{G}(v_i)$"
   ]
  },
  {
   "cell_type": "markdown",
   "id": "3e9c58cd-79c9-429a-a230-a3f7801dc56c",
   "metadata": {},
   "source": [
    "The set of neighbors of a vertex v."
   ]
  },
  {
   "cell_type": "code",
   "execution_count": 22,
   "id": "2dc2a1f6-a5b1-4879-a0c2-befb722fbb4c",
   "metadata": {},
   "outputs": [
    {
     "name": "stdout",
     "output_type": "stream",
     "text": [
      "Neighbors for vertex 1 = {2, 3, 4}\n"
     ]
    },
    {
     "data": {
      "image/png": "[encoded data removed]",
      "text/plain": [
       "<Figure size 100x100 with 1 Axes>"
      ]
     },
     "metadata": {},
     "output_type": "display_data"
    }
   ],
   "source": [
    "vertex = 1\n",
    "neighbors = set(nx.neighbors(G, vertex))\n",
    "print(f'Neighbors for vertex {vertex} = {neighbors}')\n",
    "\n",
    "fig = plt.figure(figsize=figsize)\n",
    "nx.draw(G, pos=pos, node_size=150, with_labels=True)\n",
    "nx.draw_networkx_nodes(G, pos=pos, nodelist=neighbors, node_size=150, node_color='red');"
   ]
  },
  {
   "cell_type": "markdown",
   "id": "1e7bb06d-716d-4c15-b881-a396ff944031",
   "metadata": {},
   "source": [
    "## Definition 16 - Degree"
   ]
  },
  {
   "cell_type": "markdown",
   "id": "aedcb1b7-d874-442d-8326-b7e42c998d4d",
   "metadata": {},
   "source": [
    "The degree $d(V)$ of vertex $v$ is the number $|E(v)|$ of edges at v or number of neighbors of $v$."
   ]
  },
  {
   "cell_type": "code",
   "execution_count": 23,
   "id": "a3ca218c-2321-4e70-92b4-725c9959b708",
   "metadata": {},
   "outputs": [],
   "source": [
    "vertex = 1\n",
    "assert nx.degree(G, vertex) == len(set(nx.neighbors(G, vertex)))"
   ]
  },
  {
   "cell_type": "markdown",
   "id": "4e5fb410-120f-49ce-acf2-260c881ca61c",
   "metadata": {},
   "source": [
    "## Definition 17 - Isolated"
   ]
  },
  {
   "cell_type": "markdown",
   "id": "b7b70c2e-b40f-411f-bd7d-7a24a217c9e3",
   "metadata": {},
   "source": [
    "A vertex of degree $0$ is isolated."
   ]
  },
  {
   "cell_type": "code",
   "execution_count": 24,
   "id": "2b23bca0-9607-4281-abad-fcca65421cc8",
   "metadata": {},
   "outputs": [
    {
     "data": {
      "image/png": "[encoded data removed]",
      "text/plain": [
       "<Figure size 100x100 with 1 Axes>"
      ]
     },
     "metadata": {},
     "output_type": "display_data"
    }
   ],
   "source": [
    "H = G.copy()\n",
    "H.add_node(7)  # Vertex 7 is isolated.\n",
    "\n",
    "assert nx.degree(H, 7) == 0\n",
    "\n",
    "fig = plt.figure(figsize=figsize)\n",
    "new_pos = pos=nx.kamada_kawai_layout(H)\n",
    "nx.draw(H, pos=new_pos, node_size=150, with_labels=True)\n",
    "nx.draw_networkx_nodes(new_pos, pos=pos, nodelist=[7], node_size=150, node_color='red');"
   ]
  },
  {
   "cell_type": "markdown",
   "id": "e03ec1f5-2fbf-447c-8272-97f2e1d93893",
   "metadata": {},
   "source": [
    "## Definition 18 - Minimum degree"
   ]
  },
  {
   "cell_type": "markdown",
   "id": "3f20739a-7cbe-4a90-a348-5f37901a33ff",
   "metadata": {},
   "source": [
    "Minimum degree $\\delta(G)$ is the minimum degree of G."
   ]
  },
  {
   "cell_type": "code",
   "execution_count": 25,
   "id": "7b47dbcb-ab56-43b3-b7ae-ea8192ac6b4b",
   "metadata": {},
   "outputs": [
    {
     "name": "stdout",
     "output_type": "stream",
     "text": [
      "Minimum degree: 1\n"
     ]
    }
   ],
   "source": [
    "degrees = [G.degree(n) for n in G.nodes()]\n",
    "min_degree = min(degrees)\n",
    "print(f'Minimum degree: {min_degree}')"
   ]
  },
  {
   "cell_type": "markdown",
   "id": "56b9f0da-f59f-4d65-a4ba-d7921bc0abd3",
   "metadata": {},
   "source": [
    "## Definition 19 - Maximum degree"
   ]
  },
  {
   "cell_type": "markdown",
   "id": "85466164-39c0-42df-8693-b3916eeee4c8",
   "metadata": {},
   "source": [
    "Maximum degree $\\Delta(G)$ is the minimum degree of G."
   ]
  },
  {
   "cell_type": "code",
   "execution_count": 26,
   "id": "5d2751d8-91f0-4b77-98e9-1cb8da5c64fc",
   "metadata": {},
   "outputs": [
    {
     "name": "stdout",
     "output_type": "stream",
     "text": [
      "Maximum degree: 3\n"
     ]
    }
   ],
   "source": [
    "degrees = [G.degree(n) for n in G.nodes()]\n",
    "max_degree = max(degrees)\n",
    "print(f'Maximum degree: {max_degree}')"
   ]
  },
  {
   "cell_type": "markdown",
   "id": "4903c7ab-4a8c-4f3e-9ea3-a7fc72171688",
   "metadata": {},
   "source": [
    "## Definition 20 - Regular"
   ]
  },
  {
   "cell_type": "markdown",
   "id": "08c690bf-13e3-4ffe-a5e4-3a43d8148f3d",
   "metadata": {},
   "source": [
    "$G$ is $k$-regular or regular if all the verices of $G$ have the same degree $k$."
   ]
  },
  {
   "cell_type": "code",
   "execution_count": 27,
   "id": "f2c72593-ed4a-44c4-869e-161ba61a10ca",
   "metadata": {},
   "outputs": [
    {
     "data": {
      "image/png": "[encoded data removed]",
      "text/plain": [
       "<Figure size 800x100 with 6 Axes>"
      ]
     },
     "metadata": {},
     "output_type": "display_data"
    }
   ],
   "source": [
    "fig, axis = plt.subplots(nrows=1, ncols=6, figsize=(8, 1), )\n",
    "plt.subplots_adjust(left=0, bottom=0, right=1, top=1, wspace=0, hspace=0)\n",
    "\n",
    "for i, degree in enumerate(range(2, 8)):\n",
    "    axis[i].set_title((f'k = {degree}'), fontdict={'fontsize': 10})\n",
    "    K = nx.random_regular_graph(degree, n=degree * 2)\n",
    "    ax = nx.draw(K, pos=nx.kamada_kawai_layout(K), node_size=150, with_labels=True, ax=axis[i])"
   ]
  },
  {
   "cell_type": "markdown",
   "id": "5d1b76e3-2660-4ee2-9625-b447b87271b6",
   "metadata": {},
   "source": [
    "## Defintion 21 - Average degree"
   ]
  },
  {
   "cell_type": "markdown",
   "id": "3397d4e9-2ff3-4263-b490-22d9edb0e701",
   "metadata": {},
   "source": [
    "$d(G)=\\frac{1}{|V|}\\sum_{v\\in V}d(v)$ and $\\delta(G)\\le d(G)\\le \\Delta(G).$ "
   ]
  },
  {
   "cell_type": "code",
   "execution_count": 28,
   "id": "668fd60e-f5e7-49d6-a6a4-1a39722a2b97",
   "metadata": {},
   "outputs": [
    {
     "name": "stdout",
     "output_type": "stream",
     "text": [
      "Average degree: 2.33\n"
     ]
    }
   ],
   "source": [
    "degrees = [G.degree(n) for n in G.nodes()]\n",
    "average_degree = round(np.average(degrees), 2)\n",
    "print(f'Average degree: {average_degree}')"
   ]
  },
  {
   "cell_type": "markdown",
   "id": "27b5dbd4-4c4f-47cc-b672-957ab371a36c",
   "metadata": {},
   "source": [
    "## Definition 22 - Number of Edges"
   ]
  },
  {
   "cell_type": "markdown",
   "id": "98a4d834-1bfc-48f0-8797-f0627e3a98f5",
   "metadata": {},
   "source": [
    "$|E| =\\frac {1}{2}\\sum_{v\\in V}d(v)=\\frac{1}{2}d(G)*|V|$"
   ]
  },
  {
   "cell_type": "code",
   "execution_count": 29,
   "id": "3d6d8e36-0f03-4b80-87c8-d5b13eabcffa",
   "metadata": {},
   "outputs": [
    {
     "name": "stdout",
     "output_type": "stream",
     "text": [
      "Number of edges: 7.0\n"
     ]
    }
   ],
   "source": [
    "degrees = [G.degree(n) for n in G.nodes()]\n",
    "right = 0.5 * np.average(degrees) * G.number_of_nodes()\n",
    "left = .5 * sum(degrees)\n",
    "\n",
    "assert left == right\n",
    "\n",
    "print(f'Number of edges: {left}')"
   ]
  },
  {
   "cell_type": "markdown",
   "id": "1273ed30-c8f5-41ea-932e-16377ef699bf",
   "metadata": {},
   "source": [
    "## Definition 23 - Path"
   ]
  },
  {
   "cell_type": "markdown",
   "id": "4c4d1437-0749-4b1a-8e27-547eca79212e",
   "metadata": {},
   "source": [
    "A path is non-empty graph $P=(V, E)$ of the form $V=\\{x_0, x_1, ..., x_k\\}$ and $E = \\{x_0 x_1, ..., x_{k-1} x_k\\}$ where the $x_i$ are all distinct.\n",
    "\n",
    "*Note: Edges cannot be repeated. Vertex cannot be repeated*"
   ]
  },
  {
   "cell_type": "code",
   "execution_count": 30,
   "id": "bfe48944-38cb-471a-b391-bcdc368e4eea",
   "metadata": {},
   "outputs": [
    {
     "name": "stdout",
     "output_type": "stream",
     "text": [
      "V(P) = {0, 1, 2, 3, 4}\n",
      "E(P) = {(0, 1), (3, 4), (2, 3), (1, 2)}\n"
     ]
    },
    {
     "data": {
      "image/png": "[encoded data removed]",
      "text/plain": [
       "<Figure size 100x100 with 1 Axes>"
      ]
     },
     "metadata": {},
     "output_type": "display_data"
    }
   ],
   "source": [
    "P = nx.path_graph(5)\n",
    "\n",
    "fig = plt.figure(figsize=figsize)\n",
    "nx.draw(P, pos=nx.kamada_kawai_layout(P), node_size=150, with_labels=True)\n",
    "\n",
    "print(f'V(P) = {set(P.nodes)}')\n",
    "print(f'E(P) = {set(P.edges)}')"
   ]
  },
  {
   "cell_type": "markdown",
   "id": "dba70d31-58ad-4b89-8c69-be4d945170f1",
   "metadata": {},
   "source": [
    "## Definition 24 - H-path (Hamiltonian path)"
   ]
  },
  {
   "cell_type": "markdown",
   "id": "615d4e62-43f6-4a9b-a98e-a406f3d153ef",
   "metadata": {},
   "source": [
    "Given a graph $H$, we call $P$ an $H$-path if $P$ is non-trivial and meets $H$ exactly in its end points."
   ]
  },
  {
   "cell_type": "markdown",
   "id": "f682c9f8-b083-4170-9fcf-4228434e9ccd",
   "metadata": {},
   "source": [
    "*Hamiltonian path: visits every vertex in the graph (exactly once, because it is a path)*"
   ]
  },
  {
   "cell_type": "code",
   "execution_count": 31,
   "id": "120cfc46-eeff-44d4-8ef7-f7435a788e2a",
   "metadata": {},
   "outputs": [
    {
     "name": "stdout",
     "output_type": "stream",
     "text": [
      "V(H) = {1, 2, 3, 4, 5, 6}\n",
      "E(H) = {(3, 1), (1, 6), (4, 3), (2, 4), (6, 5)}\n"
     ]
    },
    {
     "data": {
      "image/png": "[encoded data removed]",
      "text/plain": [
       "<Figure size 100x100 with 1 Axes>"
      ]
     },
     "metadata": {},
     "output_type": "display_data"
    }
   ],
   "source": [
    "path = nx.algorithms.tournament.hamiltonian_path(G.to_directed())\n",
    "\n",
    "H = nx.Graph()\n",
    "nx.add_path(H, path)\n",
    "\n",
    "assert G.nodes == H.nodes\n",
    "print(f'V(H) = {set(H.nodes)}')\n",
    "print(f'E(H) = {set(H.edges)}')\n",
    "\n",
    "fig = plt.figure(figsize=figsize)\n",
    "nx.draw(G, pos=pos, node_size=150, with_labels=True)\n",
    "nx.draw_networkx_edges(H, pos=pos, edgelist=H.edges, edge_color='red', width=3);"
   ]
  },
  {
   "cell_type": "markdown",
   "id": "a3e34f95-30a8-4bd5-bf74-95b90c32476f",
   "metadata": {},
   "source": [
    "## Definition 25 - Cycle"
   ]
  },
  {
   "cell_type": "markdown",
   "id": "da4b2d66-ade3-4b4a-b928-194c21294e88",
   "metadata": {},
   "source": [
    "If $P = x_0,...,x_1$ is a path and $k\\ge$ 3 the the graph $C = P + x_{k-1} x_0$ is called a cycle.\n",
    "\n",
    "*A cycle in a graph is a non-empty trail in which only the first and last vertices are equal.*"
   ]
  },
  {
   "cell_type": "code",
   "execution_count": 32,
   "id": "8238d0a8-21de-43a2-b0c8-27ee9b52fb73",
   "metadata": {},
   "outputs": [
    {
     "data": {
      "image/png": "[encoded data removed]",
      "text/plain": [
       "<Figure size 300x100 with 3 Axes>"
      ]
     },
     "metadata": {},
     "output_type": "display_data"
    }
   ],
   "source": [
    "cycles = nx.cycle_basis(G)  # get minimal collection of cycles\n",
    "cycles.append([1, 4, 5, 3]) # add not minimal cycle\n",
    "\n",
    "fig, axis = plt.subplots(nrows=1, ncols=len(cycles), figsize=(len(cycles), 1), )\n",
    "plt.subplots_adjust(left=0, bottom=0, right=1, top=1, wspace=0, hspace=0)\n",
    "\n",
    "for i, cycle in enumerate(cycles):\n",
    "    H = nx.Graph()\n",
    "    nx.add_cycle(H, cycle)  \n",
    "    \n",
    "    nx.draw(G, pos=pos, node_size=150, with_labels=True, ax=axis[i])\n",
    "    nx.draw_networkx_edges(G, pos=pos, edgelist=H.edges, edge_color='red', width=3, ax=axis[i])"
   ]
  },
  {
   "cell_type": "markdown",
   "id": "eb7d0ffb-d5aa-45b2-b992-904894908dbf",
   "metadata": {},
   "source": [
    "### Examples"
   ]
  },
  {
   "cell_type": "markdown",
   "id": "8c385332-3762-4cf5-bf04-5ee2437eafec",
   "metadata": {},
   "source": [
    "*Note: The cycle $C_3$ is also called a triangle. The cycle $C_4$ is regular graph ans also denoated by $Q_2$ (2-cube).*"
   ]
  },
  {
   "cell_type": "code",
   "execution_count": 33,
   "id": "b9fb5909-e31c-4b24-b9d5-07612e3fd889",
   "metadata": {},
   "outputs": [
    {
     "data": {
      "image/png": "[encoded data removed]",
      "text/plain": [
       "<Figure size 400x100 with 4 Axes>"
      ]
     },
     "metadata": {},
     "output_type": "display_data"
    }
   ],
   "source": [
    "fig, axis = plt.subplots(nrows=1, ncols=4, figsize=(4, 1))\n",
    "plt.subplots_adjust(left=0, bottom=0, right=1, top=1, wspace=0.1, hspace=0)\n",
    "\n",
    "for i in range(3, 7):\n",
    "    H = nx.cycle_graph(i)\n",
    "    axis[i-3].set_title((f'C{i}'), fontdict={'fontsize': 10})\n",
    "    \n",
    "    nx.draw(H, pos=nx.circular_layout(H), node_size=150, with_labels=True, ax=axis[i-3])"
   ]
  },
  {
   "cell_type": "markdown",
   "id": "03675ad2-a4b9-4084-ab82-aa6d1c1a5021",
   "metadata": {},
   "source": [
    "## Definition 26 - Girth"
   ]
  },
  {
   "cell_type": "markdown",
   "id": "988779b8-517b-4887-b5bb-6f9e90b65711",
   "metadata": {},
   "source": [
    "The minimum length of a cycle in a graph $G$ is the girth $g(G)$."
   ]
  },
  {
   "cell_type": "code",
   "execution_count": 34,
   "id": "971b57d4-c7c2-4449-a4c2-c7e62a117cd1",
   "metadata": {},
   "outputs": [
    {
     "name": "stdout",
     "output_type": "stream",
     "text": [
      "g(G) = 3\n"
     ]
    }
   ],
   "source": [
    "cycles = nx.cycle_basis(G)\n",
    "girth = min(map(len, cycles))\n",
    "print(f'g(G) = {girth}')"
   ]
  },
  {
   "cell_type": "markdown",
   "id": "212a8f28-5989-4480-85e1-c07997a7be56",
   "metadata": {},
   "source": [
    "## Definition 27 - Circumference"
   ]
  },
  {
   "cell_type": "markdown",
   "id": "1ab2f44c-7b0f-4d89-a0cf-6b83367e30cb",
   "metadata": {},
   "source": [
    "The maximum length of a cycle in $G$ is its circumference."
   ]
  },
  {
   "cell_type": "code",
   "execution_count": 35,
   "id": "a36f062a-29d2-4d2d-bfcb-d3afbe961536",
   "metadata": {},
   "outputs": [
    {
     "name": "stdout",
     "output_type": "stream",
     "text": [
      "Maximum length of cycle: 4\n"
     ]
    },
    {
     "data": {
      "image/png": "[encoded data removed]",
      "text/plain": [
       "<Figure size 100x100 with 1 Axes>"
      ]
     },
     "metadata": {},
     "output_type": "display_data"
    }
   ],
   "source": [
    "cycles = nx.cycle_basis(G)\n",
    "nodes = np.unique(np.array(cycles).flatten())\n",
    "\n",
    "H = nx.Graph()\n",
    "nx.add_cycle(H, [1, 4, 5, 3])  \n",
    "print(f'Maximum length of cycle: {len(nodes)}')\n",
    "\n",
    "fig = plt.figure(figsize=figsize)\n",
    "nx.draw(G, pos=pos, node_size=150, with_labels=True)\n",
    "nx.draw_networkx_edges(G, pos=pos, edgelist=H.edges, edge_color='red', width=3);"
   ]
  },
  {
   "cell_type": "markdown",
   "id": "28ab3fda-0c6d-4645-b992-fc3911804307",
   "metadata": {},
   "source": [
    "## Definition 28 - Chord"
   ]
  },
  {
   "cell_type": "markdown",
   "id": "9bd110d0-fb20-42d4-91a3-a9494b431b95",
   "metadata": {},
   "source": [
    "An edge which joins two vertices of a cycle but is not itself an edge of the cycle is chord of the cycle."
   ]
  },
  {
   "cell_type": "code",
   "execution_count": 36,
   "id": "2eda9bab-aaa3-4ad6-bb6f-3e4efd11ca03",
   "metadata": {},
   "outputs": [
    {
     "name": "stdout",
     "output_type": "stream",
     "text": [
      "Cord (marked blue) of the cycle {1, 3, 5, 4} is (3, 4)\n"
     ]
    },
    {
     "data": {
      "image/png": "[encoded data removed]",
      "text/plain": [
       "<Figure size 100x100 with 1 Axes>"
      ]
     },
     "metadata": {},
     "output_type": "display_data"
    }
   ],
   "source": [
    "H = nx.Graph()\n",
    "nx.add_cycle(H, [1, 4, 5, 3])  \n",
    "\n",
    "fig = plt.figure(figsize=figsize)\n",
    "nx.draw(G, pos=pos, node_size=150, with_labels=True)\n",
    "nx.draw_networkx_edges(G, pos=pos, edgelist=H.edges, edge_color='red', width=3);\n",
    "nx.draw_networkx_edges(G, pos=pos, edgelist=[(3, 4)], edge_color='blue', width=3);\n",
    "\n",
    "print('Cord (marked blue) of the cycle {1, 3, 5, 4} is (3, 4)') "
   ]
  },
  {
   "cell_type": "markdown",
   "id": "3fc306f9-4fbe-4ab5-af79-eca8ec60ec1e",
   "metadata": {},
   "source": [
    "## Defintiton 29 - Induced cycle"
   ]
  },
  {
   "cell_type": "markdown",
   "id": "6a191ece-5a02-4167-b6c3-5d34d2784b5c",
   "metadata": {},
   "source": [
    "An inducted cycle in $G$, a cycle in $G$ forming an induced subgraph is one that has no chords."
   ]
  },
  {
   "cell_type": "code",
   "execution_count": 37,
   "id": "61b8b57f-5077-465f-94fa-82e13c6931fe",
   "metadata": {},
   "outputs": [
    {
     "data": {
      "image/png": "[encoded data removed]",
      "text/plain": [
       "<Figure size 200x100 with 2 Axes>"
      ]
     },
     "metadata": {},
     "output_type": "display_data"
    }
   ],
   "source": [
    "cycles = nx.cycle_basis(G)\n",
    "\n",
    "H = nx.Graph()\n",
    "nx.add_cycle(H, cycles[0])  \n",
    "\n",
    "fig, axis = plt.subplots(nrows=1, ncols=2, figsize=(2, 1), )\n",
    "plt.subplots_adjust(left=0, bottom=0, right=1.4, top=1, wspace=0, hspace=0)\n",
    "\n",
    "axis[0].set_title((f'Induced'), fontdict={'fontsize': 10})\n",
    "nx.draw(G, pos=pos, node_size=150, with_labels=True, ax=axis[0])\n",
    "nx.draw_networkx_edges(H, pos=pos, edgelist=H.edges, edge_color='red', width=3, ax=axis[0])\n",
    "\n",
    "H = nx.Graph()\n",
    "nx.add_cycle(H, [1, 3, 5, 4])  \n",
    "\n",
    "axis[1].set_title((f'Not induced'), fontdict={'fontsize': 10})\n",
    "nx.draw(G, pos=pos, node_size=150, with_labels=True, ax=axis[1])\n",
    "nx.draw_networkx_edges(H, pos=pos, edgelist=H.edges, edge_color='red', width=3, ax=axis[1]);"
   ]
  },
  {
   "cell_type": "markdown",
   "id": "a8d3c931-2915-4b3c-8aba-85a97d85a803",
   "metadata": {},
   "source": [
    "## Defintion 30 - Distance"
   ]
  },
  {
   "cell_type": "markdown",
   "id": "64eeb8ea-a7fe-47ba-a192-64589fc771fb",
   "metadata": {},
   "source": [
    "The distance $d_G(x, y)$ in $G$ of two vertices $x,y$ is the length of a shortest $x-y$ path in $G$."
   ]
  },
  {
   "cell_type": "code",
   "execution_count": 38,
   "id": "0195407d-34ca-445c-9fd2-3b52643363c6",
   "metadata": {},
   "outputs": [
    {
     "name": "stdout",
     "output_type": "stream",
     "text": [
      "Distance = 3\n"
     ]
    },
    {
     "data": {
      "image/png": "[encoded data removed]",
      "text/plain": [
       "<Figure size 100x100 with 1 Axes>"
      ]
     },
     "metadata": {},
     "output_type": "display_data"
    }
   ],
   "source": [
    "node_a = 2\n",
    "node_b = 5\n",
    "path = nx.shortest_path(G, node_a, node_b)\n",
    "length = nx.shortest_path_length(G, node_a, node_b)\n",
    "\n",
    "print(f'Distance = {length}')\n",
    "\n",
    "H = nx.Graph()\n",
    "nx.add_path(H, path)\n",
    "\n",
    "fig = plt.figure(figsize=figsize)\n",
    "nx.draw(G, pos=pos, node_size=150, with_labels=True)\n",
    "nx.draw_networkx_edges(G, pos=pos, edgelist=H.edges, edge_color='red', width=3);"
   ]
  },
  {
   "cell_type": "markdown",
   "id": "64abb15f-b666-4187-a6e1-3f4f6d2700ca",
   "metadata": {
    "tags": []
   },
   "source": [
    "## Defintion 31 - Diameter"
   ]
  },
  {
   "cell_type": "markdown",
   "id": "4a7b18b1-4852-4813-bb83-1b30958574af",
   "metadata": {},
   "source": [
    "The greatest distance between any two vertices in $G$  is the diameter of $G$, denoted by diam $G$."
   ]
  },
  {
   "cell_type": "code",
   "execution_count": 39,
   "id": "c91341da-fb32-4b4b-a032-26dec37d5b24",
   "metadata": {},
   "outputs": [
    {
     "name": "stdout",
     "output_type": "stream",
     "text": [
      "Diameter = 4\n"
     ]
    },
    {
     "data": {
      "image/png": "[encoded data removed]",
      "text/plain": [
       "<Figure size 100x100 with 1 Axes>"
      ]
     },
     "metadata": {},
     "output_type": "display_data"
    }
   ],
   "source": [
    "diameter = nx.diameter(G) \n",
    "print(f'Diameter = {diameter}')\n",
    "\n",
    "# The biggest distances is between vertices 2 an 6.\n",
    "H = nx.Graph()\n",
    "nx.add_path(H, [2, 1, 3, 5, 6])\n",
    "\n",
    "fig = plt.figure(figsize=figsize)\n",
    "nx.draw(G, pos=pos, node_size=150, with_labels=True)\n",
    "nx.draw_networkx_edges(G, pos=pos, edgelist=H.edges, edge_color='red', width=3);"
   ]
  },
  {
   "cell_type": "markdown",
   "id": "eb5ac128-9d65-4880-9f41-c8ae923019ab",
   "metadata": {},
   "source": [
    "## Defintion 32 - Central"
   ]
  },
  {
   "cell_type": "markdown",
   "id": "ababbbe1-e008-4aad-8281-9dc126b53b1e",
   "metadata": {},
   "source": [
    "A vertex is central in $G$ if its greatest distance from any other vertex is as small as possible."
   ]
  },
  {
   "cell_type": "code",
   "execution_count": 40,
   "id": "7591b458-2ad3-491e-b831-344d6bc09f4a",
   "metadata": {},
   "outputs": [
    {
     "name": "stdout",
     "output_type": "stream",
     "text": [
      "Central nodes = {3, 4}\n"
     ]
    },
    {
     "data": {
      "image/png": "[encoded data removed]",
      "text/plain": [
       "<Figure size 100x100 with 1 Axes>"
      ]
     },
     "metadata": {},
     "output_type": "display_data"
    }
   ],
   "source": [
    "center_nodes = nx.center(G)\n",
    "print(f'Central nodes = {set(center_nodes)}')\n",
    "\n",
    "fig = plt.figure(figsize=figsize)\n",
    "nx.draw(G, pos=pos, node_size=150, with_labels=True)\n",
    "nx.draw_networkx_nodes(G, pos=pos, nodelist=center_nodes, node_color='red', node_size=150);"
   ]
  },
  {
   "cell_type": "markdown",
   "id": "d1344d38-d570-4d69-ab43-cfbed7f37d30",
   "metadata": {},
   "source": [
    "## Defintion 33 - Radius"
   ]
  },
  {
   "cell_type": "markdown",
   "id": "1da73e9b-b66d-432b-98b9-cc9c1155600a",
   "metadata": {},
   "source": [
    "The greatest distance between the central vertex and from any other vertex denoted $radG$ where $radG=min_{x\\in V(G)}max_{y\\in V(G)}d_G(x, y)$ where $radG\\ge diamG\\ge 2radG$"
   ]
  },
  {
   "cell_type": "code",
   "execution_count": 41,
   "id": "4d893c68-b160-4016-9830-3c7e836b3553",
   "metadata": {},
   "outputs": [
    {
     "name": "stdout",
     "output_type": "stream",
     "text": [
      "Radius = 2\n"
     ]
    },
    {
     "data": {
      "image/png": "[encoded data removed]",
      "text/plain": [
       "<Figure size 100x100 with 1 Axes>"
      ]
     },
     "metadata": {},
     "output_type": "display_data"
    }
   ],
   "source": [
    "center_nodes = nx.center(G)\n",
    "\n",
    "radius = nx.radius(G)\n",
    "print(f'Radius = {radius}')\n",
    "\n",
    "# The greatest distance between the cenral vertices {3, 4} is 2 (marked green).\n",
    "H = nx.Graph()\n",
    "nx.add_path(H, [2, 1, 3])\n",
    "nx.add_path(H, [4, 5, 6])\n",
    "\n",
    "fig = plt.figure(figsize=figsize)\n",
    "nx.draw(G, pos=pos, node_size=150, with_labels=True)\n",
    "nx.draw_networkx_nodes(G, pos=pos, nodelist=center_nodes, node_color='red', node_size=150)\n",
    "nx.draw_networkx_edges(G, pos=pos, edgelist=H.edges, edge_color='blue', width=3);"
   ]
  },
  {
   "cell_type": "markdown",
   "id": "7d02c86e-5562-4ffc-b691-ea0afe327bd5",
   "metadata": {},
   "source": [
    "## Definition 34 - Walk"
   ]
  },
  {
   "cell_type": "markdown",
   "id": "196c3e97-4c11-4616-afc8-4956ce593462",
   "metadata": {},
   "source": [
    "A walk of length $k$ is a non-empty alternating sequence of vertices and edges in $G$.\n",
    "\n",
    "*Note: Edges can be repeated. Vertex can be repeated.*"
   ]
  },
  {
   "cell_type": "code",
   "execution_count": 42,
   "id": "b47b11fe-55a0-44b5-83fc-46a97dcd0f00",
   "metadata": {},
   "outputs": [
    {
     "data": {
      "image/png": "[encoded data removed]",
      "text/plain": [
       "<Figure size 100x100 with 1 Axes>"
      ]
     },
     "metadata": {},
     "output_type": "display_data"
    }
   ],
   "source": [
    "H = nx.Graph()\n",
    "nx.add_path(H, [2, 1, 3, 4, 3, 5, 6])\n",
    "\n",
    "fig = plt.figure(figsize=figsize)\n",
    "nx.draw(G, pos=pos, node_size=150, with_labels=True)\n",
    "nx.draw_networkx_edges(G, pos=pos, edgelist=H.edges, edge_color='red', width=3);"
   ]
  },
  {
   "cell_type": "markdown",
   "id": "b3ae5064-1ead-414c-af37-d7c238a642e1",
   "metadata": {
    "tags": []
   },
   "source": [
    "### Trial"
   ]
  },
  {
   "cell_type": "markdown",
   "id": "64105a1e-4acf-4eb5-8830-128378dc158b",
   "metadata": {},
   "source": [
    "Trail is an open walk in which no edge is repeated. \n",
    "\n",
    "*Note: Only vertex can be repeated.*"
   ]
  },
  {
   "cell_type": "markdown",
   "id": "8a5adef5-6704-4e3a-824a-d367fbae9828",
   "metadata": {},
   "source": [
    "## Definition 35 - Connected"
   ]
  },
  {
   "cell_type": "markdown",
   "id": "bc8fcdc3-d9ee-45d1-bfa8-b038e21d3634",
   "metadata": {},
   "source": [
    "A non-empty graph is $G$ is called connected if any two of its vertices are linked by a path in G."
   ]
  },
  {
   "cell_type": "code",
   "execution_count": 43,
   "id": "11e1a83d-84cf-4ad7-8039-2666d612b443",
   "metadata": {},
   "outputs": [
    {
     "data": {
      "image/png": "[encoded data removed]",
      "text/plain": [
       "<Figure size 100x100 with 1 Axes>"
      ]
     },
     "metadata": {},
     "output_type": "display_data"
    }
   ],
   "source": [
    "assert nx.is_connected(G) == True\n",
    "\n",
    "H = G.copy()\n",
    "H.remove_edges_from([(4, 5), (3, 5)])\n",
    "\n",
    "# There is no path between vertices, for example 2 and 6. \n",
    "assert nx.is_connected(H) == False\n",
    "# assert nx.shortest_path(H, 2, 6)  # It will raise an exception: NetworkXNoPath: No path between 2 and 5.\n",
    "\n",
    "fig = plt.figure(figsize=figsize)\n",
    "nx.draw(H, pos=pos, node_size=150, with_labels=True)"
   ]
  },
  {
   "cell_type": "markdown",
   "id": "e122fc16-9329-402a-a133-c21533a355b9",
   "metadata": {},
   "source": [
    "## Definition 36 - Component"
   ]
  },
  {
   "cell_type": "markdown",
   "id": "6a1502e9-db9f-463e-80fa-760a14a434e3",
   "metadata": {},
   "source": [
    "A maximal connected subgraph of $G$ is called a component."
   ]
  },
  {
   "cell_type": "code",
   "execution_count": 44,
   "id": "037bb02a-c235-4d32-81ec-6761b2973d1e",
   "metadata": {},
   "outputs": [
    {
     "name": "stdout",
     "output_type": "stream",
     "text": [
      "Components = [{1, 2, 3, 4}, {5, 6}]\n"
     ]
    },
    {
     "data": {
      "image/png": "[encoded data removed]",
      "text/plain": [
       "<Figure size 300x100 with 3 Axes>"
      ]
     },
     "metadata": {},
     "output_type": "display_data"
    }
   ],
   "source": [
    "H = G.copy()\n",
    "H.remove_edges_from([(4, 5), (3, 5)])\n",
    "\n",
    "components = list(nx.components.connected_components(H))\n",
    "print(f'Components = {components}')\n",
    "\n",
    "fig, axis = plt.subplots(nrows=1, ncols=len(components)+1, figsize=(3, 1), )\n",
    "plt.subplots_adjust(left=0, bottom=0, right=1, top=1, wspace=0, hspace=0)\n",
    "nx.draw(G, pos=pos, node_size=150, with_labels=True, ax=axis[0])\n",
    "axis[0].set_title((f'basic'), fontdict={'fontsize': 10})\n",
    "\n",
    "for i in range(len(components)):\n",
    "    component = components[i]\n",
    "    H = nx.subgraph(G, component)  \n",
    "    nx.draw(H, pos=pos, node_size=150, with_labels=True, ax=axis[i+1])\n",
    "    axis[i+1].set_title((f'comp {i+1}'), fontdict={'fontsize': 10})\n",
    "    \n",
    "    # nx.draw_networkx_edges(G, pos=pos, edgelist=H.edges, edge_color='red', width=3, ax=axis[i])"
   ]
  },
  {
   "cell_type": "markdown",
   "id": "d4059c10-649b-4698-8760-a6118d77bfb1",
   "metadata": {},
   "source": [
    "## Definition 37 - Separator"
   ]
  },
  {
   "cell_type": "markdown",
   "id": "c2dcfde5-0b4f-4d61-976c-4fa333c80f13",
   "metadata": {},
   "source": [
    "If $A,B\\subset V$ and $X\\subseteq V\\cup E$ are such that every $A - B$ path in $G$ contains a vertex or an edge from $X$ we say that $X$ separates the set $A$ and $B$ in $G$.\n",
    "\n",
    "*Note: The separator is a set of vertices that divides a graph into two or more components* "
   ]
  },
  {
   "cell_type": "code",
   "execution_count": 45,
   "id": "48484830-a840-42ef-b21d-60808d715d0f",
   "metadata": {},
   "outputs": [
    {
     "name": "stdout",
     "output_type": "stream",
     "text": [
      "Separators = {1, 5}\n"
     ]
    },
    {
     "data": {
      "image/png": "[encoded data removed]",
      "text/plain": [
       "<Figure size 100x100 with 1 Axes>"
      ]
     },
     "metadata": {},
     "output_type": "display_data"
    }
   ],
   "source": [
    "separators = list(nx.all_node_cuts(G))\n",
    "separators = np.array(list(map(list, separators))).flatten()\n",
    "print(f'Separators = {set(separators)}')\n",
    "\n",
    "fig = plt.figure(figsize=figsize)\n",
    "nx.draw(G, pos=pos, node_size=150, with_labels=True);\n",
    "nx.draw_networkx_nodes(G, pos=pos, nodelist=separators, node_color='red', node_size=150);"
   ]
  },
  {
   "cell_type": "markdown",
   "id": "532f5db8-67b1-4e6b-aef2-f64985d6bb99",
   "metadata": {},
   "source": [
    "## Definition 38 - Cutvertex"
   ]
  },
  {
   "cell_type": "markdown",
   "id": "a66f9a15-e33d-4a18-959b-ea16b6ca1d48",
   "metadata": {},
   "source": [
    "A vertex which separates two other vertices of the same component is a cutvertex.\n",
    "\n",
    "*Note: A cutvertex is a special case of a sepatator.*"
   ]
  },
  {
   "cell_type": "code",
   "execution_count": 46,
   "id": "5dfe1659-7443-4e2f-9c31-b879441f011c",
   "metadata": {},
   "outputs": [
    {
     "name": "stdout",
     "output_type": "stream",
     "text": [
      "Cutvertices = [5, 1]\n"
     ]
    }
   ],
   "source": [
    "cutvertices = list(nx.articulation_points(G))\n",
    "\n",
    "print(f'Cutvertices = {cutvertices}')"
   ]
  },
  {
   "cell_type": "markdown",
   "id": "95553de8-1cc3-4057-8b7f-9b00f6671d83",
   "metadata": {},
   "source": [
    "## Definition 39 - Bridge"
   ]
  },
  {
   "cell_type": "markdown",
   "id": "7ea019bc-e908-477f-b59e-a28acc4092e1",
   "metadata": {},
   "source": [
    "An edge separating its ends is a bridge."
   ]
  },
  {
   "cell_type": "code",
   "execution_count": 47,
   "id": "ad12b7a2-3dbe-4426-8f77-3d2768a35eaa",
   "metadata": {},
   "outputs": [
    {
     "name": "stdout",
     "output_type": "stream",
     "text": [
      "Bridges = [(1, 2), (5, 6)]\n"
     ]
    },
    {
     "data": {
      "image/png": "[encoded data removed]",
      "text/plain": [
       "<Figure size 100x100 with 1 Axes>"
      ]
     },
     "metadata": {},
     "output_type": "display_data"
    }
   ],
   "source": [
    "bridges = list(nx.bridges(G))\n",
    "print(f'Bridges = {bridges}')\n",
    "\n",
    "fig = plt.figure(figsize=figsize)\n",
    "nx.draw(G, pos=pos, node_size=150, with_labels=True);\n",
    "nx.draw_networkx_edges(G, pos=pos, edgelist=bridges, edge_color='red', width=3);"
   ]
  },
  {
   "cell_type": "markdown",
   "id": "0688f829-bbcc-4bbd-93c9-4422c67bf2c4",
   "metadata": {},
   "source": [
    "## Definition 40 - k-connected"
   ]
  },
  {
   "cell_type": "markdown",
   "id": "cecd69c2-f219-4c5b-b758-3099dd78e9f7",
   "metadata": {},
   "source": [
    "$G$ is called k-connected if $|G| > k$ and $G - X$ is connected for every set $X\\subseteq V$ with $|X|<k$. No vertices of $G$ are separated by fewer than $k$ other vertices."
   ]
  },
  {
   "cell_type": "code",
   "execution_count": 48,
   "id": "75608441-2639-4c81-b2f9-51fc875d9d4a",
   "metadata": {},
   "outputs": [
    {
     "name": "stdout",
     "output_type": "stream",
     "text": [
      "G is 1-connected.\n",
      "Cuts: [{1}, {5}]\n"
     ]
    },
    {
     "data": {
      "image/png": "[encoded data removed]",
      "text/plain": [
       "<Figure size 300x100 with 3 Axes>"
      ]
     },
     "metadata": {},
     "output_type": "display_data"
    }
   ],
   "source": [
    "# Find k for H graph\n",
    "cuts = list(nx.all_node_cuts(G))\n",
    "k = max(list(map(len, cuts)))\n",
    "print(f'G is {k}-connected.')\n",
    "print(f'Cuts: {cuts}')\n",
    "\n",
    "fig, axis = plt.subplots(nrows=1, ncols=len(cuts)+1, figsize=(len(cuts)+1, 1), sharey=True)\n",
    "plt.subplots_adjust(left=0, bottom=-0.1, right=1.2, top=0.9, wspace=0.1, hspace=0)\n",
    "nx.draw(G, pos=pos, node_size=150, with_labels=True, ax=axis[0]);\n",
    "\n",
    "for i, cut in enumerate(cuts):\n",
    "    I = G.copy()\n",
    "    I.remove_nodes_from(cut)\n",
    "    \n",
    "    assert nx.is_connected(I) == False\n",
    "    \n",
    "    axis[i+1].set_title((f'{cut}'), fontdict={'fontsize': 10})\n",
    "    nx.draw(I, pos=pos, node_size=150, with_labels=True, ax=axis[i+1])"
   ]
  },
  {
   "cell_type": "markdown",
   "id": "095210ef-0608-4279-8182-29f257e2eb07",
   "metadata": {},
   "source": [
    "### Example"
   ]
  },
  {
   "cell_type": "markdown",
   "id": "37023214-e17b-4e6a-a537-504f2735714b",
   "metadata": {},
   "source": [
    "*Note: In example $H$ is regular graph and it is cycle $C_{6}^{2}$ (squared $C_6$).*"
   ]
  },
  {
   "cell_type": "code",
   "execution_count": 49,
   "id": "83ceafcf-248e-470e-a281-4a6687906036",
   "metadata": {},
   "outputs": [
    {
     "name": "stdout",
     "output_type": "stream",
     "text": [
      "H is 4-connected.\n",
      "Cuts: [{0, 2, 4, 5}, {0, 1, 3, 4}]\n"
     ]
    },
    {
     "data": {
      "image/png": "[encoded data removed]",
      "text/plain": [
       "<Figure size 200x100 with 2 Axes>"
      ]
     },
     "metadata": {},
     "output_type": "display_data"
    }
   ],
   "source": [
    "H = nx.random_regular_graph(d=4, n=6, seed=44) \n",
    "\n",
    "cuts = list(nx.all_node_cuts(H))\n",
    "k = max(list(map(len, cuts)))\n",
    "print(f'H is {k}-connected.')\n",
    "print(f'Cuts: {cuts}')\n",
    "\n",
    "fig, axis = plt.subplots(nrows=1, ncols=2, figsize=(2, 1), sharey=True)\n",
    "plt.subplots_adjust(left=0, bottom=-0.1, right=1, top=1, wspace=0.1, hspace=0)\n",
    "nx.draw(H, pos=nx.circular_layout(H), node_size=150, with_labels=True, ax=axis[0])\n",
    "\n",
    "I = H.copy()\n",
    "I.remove_nodes_from(cuts[0])\n",
    "axis[1].set_title((f'{cuts[0]}'), fontdict={'fontsize': 10})\n",
    "nx.draw(I, pos=nx.circular_layout(H), node_size=150, with_labels=True, ax=axis[1])\n",
    "plt.margins(0.2);"
   ]
  },
  {
   "cell_type": "markdown",
   "id": "ef47e8bc-4175-4df5-abdd-610232b9cb3e",
   "metadata": {},
   "source": [
    "## Definition 41 - Connectivity "
   ]
  },
  {
   "cell_type": "markdown",
   "id": "e7b68f6d-ebfa-4037-b7b0-8e70f2ab5767",
   "metadata": {},
   "source": [
    "The greatest integer $k$ such that $G$ is $k$-connected is the connectivity $\\kappa (G)$."
   ]
  },
  {
   "cell_type": "code",
   "execution_count": 50,
   "id": "2d033fbd-ce1e-452b-ab8b-94e84599de13",
   "metadata": {},
   "outputs": [
    {
     "name": "stdout",
     "output_type": "stream",
     "text": [
      "𝜅(𝐺)=1\n"
     ]
    }
   ],
   "source": [
    "connectivity = nx.connectivity.connectivity.node_connectivity(G)\n",
    "print(f'𝜅(𝐺)={connectivity}')"
   ]
  },
  {
   "cell_type": "markdown",
   "id": "66d0e299-0f43-418c-9b04-c607e6693d97",
   "metadata": {},
   "source": [
    "## Definition 42 - k-edge-connected "
   ]
  },
  {
   "cell_type": "markdown",
   "id": "a0b95b6b-ea48-451b-8127-5311d36a232d",
   "metadata": {},
   "source": [
    "If $|G|>1$ and $G-F$ is connected for every set $F\\subseteq E$ of fewer than $k$ edges then $G$ is called $k$-edge connected. \n",
    "\n",
    "*Note: If $G$ is $k$-edge connected and we remove $k-1$ specific edges, the graph $G$ will be disconnected.* "
   ]
  },
  {
   "cell_type": "code",
   "execution_count": 51,
   "id": "2a09a9c9-2e9e-4d40-b0d7-ff11d1fa06d9",
   "metadata": {},
   "outputs": [
    {
     "name": "stdout",
     "output_type": "stream",
     "text": [
      "Edge cuts of G: {(2, 1)}\n",
      "Components of H: [{1, 3, 4, 5, 6}, {2}]\n"
     ]
    },
    {
     "data": {
      "image/png": "[encoded data removed]",
      "text/plain": [
       "<Figure size 200x100 with 2 Axes>"
      ]
     },
     "metadata": {},
     "output_type": "display_data"
    }
   ],
   "source": [
    "edge_cuts = nx.minimum_edge_cut(G)\n",
    "print(f'Edge cuts of G: {edge_cuts}')\n",
    "\n",
    "H = G.copy()\n",
    "H.remove_edges_from(edge_cuts)\n",
    "\n",
    "print(f'Components of H: {list(nx.components.connected_components(H))}')\n",
    "\n",
    "assert nx.is_connected(H) == False\n",
    "\n",
    "fig, axis = plt.subplots(nrows=1, ncols=2, figsize=(2, 1), sharey=True)\n",
    "plt.subplots_adjust(left=0, bottom=-0.1, right=1, top=1, wspace=0.1, hspace=0)\n",
    "\n",
    "nx.draw(G, pos=pos, node_size=150, with_labels=True, ax=axis[0]);\n",
    "nx.draw_networkx_edges(G, pos=pos, edgelist=edge_cuts, edge_color='red', width=3, ax=axis[0]);\n",
    "\n",
    "nx.draw(H, pos=pos, node_size=150, with_labels=True, ax=axis[1])\n",
    "plt.margins(0.2);"
   ]
  },
  {
   "cell_type": "markdown",
   "id": "7594fa16-9b58-4140-9f4d-0ce1d7f98093",
   "metadata": {},
   "source": [
    "### Example"
   ]
  },
  {
   "cell_type": "code",
   "execution_count": 52,
   "id": "e9bf0174-8561-4cc2-8a8c-79970a84594d",
   "metadata": {},
   "outputs": [
    {
     "name": "stdout",
     "output_type": "stream",
     "text": [
      "Edge cuts from G: {(6, 4), (5, 4), (11, 4), (10, 4), (3, 4)}\n",
      "Components of I: [{0, 1, 2, 3, 5, 6, 7, 8, 9, 10, 11}, {4}]\n"
     ]
    },
    {
     "data": {
      "image/png": "[encoded data removed]",
      "text/plain": [
       "<Figure size 200x100 with 2 Axes>"
      ]
     },
     "metadata": {},
     "output_type": "display_data"
    }
   ],
   "source": [
    "H =  nx.icosahedral_graph()\n",
    "edge_cuts = nx.minimum_edge_cut(H)\n",
    "print(f'Edge cuts from G: {edge_cuts}')\n",
    "\n",
    "I = H.copy()\n",
    "I.remove_edges_from(edge_cuts)\n",
    "print(f'Components of I: {list(nx.components.connected_components(I))}')\n",
    "\n",
    "\n",
    "fig, axis = plt.subplots(nrows=1, ncols=2, figsize=(2, 1), sharey=True)\n",
    "plt.subplots_adjust(left=0, bottom=-0.1, right=1, top=1, wspace=0.1, hspace=0)\n",
    "\n",
    "nx.draw(H, pos=nx.circular_layout(H), node_size=150, with_labels=True, ax=axis[0]);\n",
    "nx.draw_networkx_edges(H, pos=nx.circular_layout(H), edgelist=edge_cuts, edge_color='red', width=3, ax=axis[0]);\n",
    "\n",
    "nx.draw(I, pos=nx.circular_layout(I), node_size=150, with_labels=True, ax=axis[1])"
   ]
  },
  {
   "cell_type": "markdown",
   "id": "1044a7c4-531d-48e3-930a-9c66a8b0d125",
   "metadata": {},
   "source": [
    "## Definition 43 - Edge-connectivity"
   ]
  },
  {
   "cell_type": "markdown",
   "id": "db28fc6a-7a2d-4ecf-acc4-8f7da49df4c7",
   "metadata": {},
   "source": [
    "\n",
    "\n",
    "*Note: The number of nodes needed to disconnect the graph."
   ]
  },
  {
   "cell_type": "code",
   "execution_count": 53,
   "id": "560e78d4-2de8-4e4a-935b-6b9f4507ec63",
   "metadata": {},
   "outputs": [
    {
     "name": "stdout",
     "output_type": "stream",
     "text": [
      "Edge connectivity of G = 1\n",
      "G will be disconnected after removing an edge from [(1, 2), (5, 6)].\n"
     ]
    },
    {
     "data": {
      "image/png": "[encoded data removed]",
      "text/plain": [
       "<Figure size 100x100 with 1 Axes>"
      ]
     },
     "metadata": {},
     "output_type": "display_data"
    }
   ],
   "source": [
    "edge_connectivity = nx.edge_connectivity(G)\n",
    "print(f'Edge connectivity of G = {edge_connectivity}')\n",
    "\n",
    "edges = [(1, 2), (5, 6)]\n",
    "print(f'G will be disconnected after removing an edge from {edges}.')\n",
    "\n",
    "fig = plt.figure(figsize=figsize)\n",
    "nx.draw(G, pos=pos, node_size=150, with_labels=True)\n",
    "nx.draw_networkx_edges(G, pos=pos, edgelist=edges, edge_color='red', width=3);"
   ]
  },
  {
   "cell_type": "code",
   "execution_count": 54,
   "id": "1f778abf-477d-4e2c-bf3e-f7fdeeae772f",
   "metadata": {},
   "outputs": [
    {
     "name": "stdout",
     "output_type": "stream",
     "text": [
      "Edge connectivity of H = 5\n"
     ]
    }
   ],
   "source": [
    "H =  nx.icosahedral_graph()\n",
    "edge_connectivity = nx.edge_connectivity(H)\n",
    "print(f'Edge connectivity of H = {edge_connectivity}')  # We need to remove 5 edges as shown in the example above."
   ]
  },
  {
   "cell_type": "markdown",
   "id": "259cbdab-59b9-401a-baff-ea62c1db0abe",
   "metadata": {},
   "source": [
    "## Definition 44 - Forest"
   ]
  },
  {
   "cell_type": "markdown",
   "id": "71118165-ac67-4b0f-ae16-91fd98581928",
   "metadata": {},
   "source": [
    "A forest is an acyclic, undirected graph,\n",
    "\n",
    "*Note: A forest is a collection of some component called tree. In other words a forest is a collection of trees.*"
   ]
  },
  {
   "cell_type": "code",
   "execution_count": 55,
   "id": "06465c54-f1ec-48fd-bd53-752a34a1973c",
   "metadata": {},
   "outputs": [
    {
     "data": {
      "image/png": "[encoded data removed]",
      "text/plain": [
       "<Figure size 100x100 with 1 Axes>"
      ]
     },
     "metadata": {},
     "output_type": "display_data"
    }
   ],
   "source": [
    "T_1 = nx.random_tree(5, seed=42)\n",
    "T_2 = nx.random_tree(3, seed=56)\n",
    "\n",
    "F = nx.disjoint_union(T_1, T_2)\n",
    "\n",
    "assert nx.is_connected(F) == False\n",
    "assert len(nx.cycle_basis(F)) == 0\n",
    "\n",
    "fig = plt.figure(figsize=(1,1))\n",
    "nx.draw(F, pos=nx.kamada_kawai_layout(F), node_size=150, with_labels=False);"
   ]
  },
  {
   "cell_type": "markdown",
   "id": "b7006ab0-6894-4dfa-ab25-2ab59e483c04",
   "metadata": {},
   "source": [
    "## Definition 45 - Tree"
   ]
  },
  {
   "cell_type": "markdown",
   "id": "156ff973-8c1c-4d21-ac90-2dbe49ede57d",
   "metadata": {},
   "source": [
    "A connected forest is called a tree. $G$ is called tree if there is exactly only one path between every two vertices.\n",
    "\n",
    "*Note: A graph is a tree if and only if the graph is connected and does not contain any cycle.*"
   ]
  },
  {
   "cell_type": "code",
   "execution_count": 56,
   "id": "f5ee3f68-b114-4cb5-a6fd-6769083961a1",
   "metadata": {},
   "outputs": [
    {
     "data": {
      "image/png": "[encoded data removed]",
      "text/plain": [
       "<Figure size 100x100 with 1 Axes>"
      ]
     },
     "metadata": {},
     "output_type": "display_data"
    }
   ],
   "source": [
    "H = nx.random_tree(7, seed=42, create_using=nx.Graph)\n",
    "\n",
    "assert nx.is_connected(H) == True\n",
    "assert len(nx.cycle_basis(H)) == 0\n",
    "\n",
    "fig = plt.figure(figsize=figsize)\n",
    "nx.draw(H, pos=nx.kamada_kawai_layout(H), node_size=150, with_labels=False);"
   ]
  },
  {
   "cell_type": "markdown",
   "id": "9de37ea6-bc06-4a7d-ad1e-400342d67c62",
   "metadata": {},
   "source": [
    "## Definition 46 - Leaf"
   ]
  },
  {
   "cell_type": "markdown",
   "id": "4e376437-83ac-4b4e-a72b-9a774ecc6e5a",
   "metadata": {},
   "source": [
    "The vertices of degree is 1 of a tree."
   ]
  },
  {
   "cell_type": "code",
   "execution_count": 57,
   "id": "4e6b9e1f-e93f-4fc9-b599-f677ac2e6f3f",
   "metadata": {},
   "outputs": [
    {
     "data": {
      "image/png": "[encoded data removed]",
      "text/plain": [
       "<Figure size 100x100 with 1 Axes>"
      ]
     },
     "metadata": {},
     "output_type": "display_data"
    }
   ],
   "source": [
    "H = nx.random_tree(7, seed=42, create_using=nx.Graph)\n",
    "degrees = nx.degree(H)\n",
    "leaves = list(map(lambda x: x[0], filter(lambda x: x[1]==1, degrees)))\n",
    "\n",
    "fig = plt.figure(figsize=figsize)\n",
    "nx.draw(H, pos=nx.kamada_kawai_layout(H), node_size=150, with_labels=False);\n",
    "nx.draw_networkx_nodes(H, pos=nx.kamada_kawai_layout(H), nodelist=leaves, node_size=150, node_color='red');"
   ]
  },
  {
   "cell_type": "markdown",
   "id": "d09c2bd1-9d00-4431-98c3-b19f655839a8",
   "metadata": {},
   "source": [
    "## Definition 47 - Tree-order"
   ]
  },
  {
   "cell_type": "markdown",
   "id": "6b65d55c-880e-49d8-a7f8-7cb150577c43",
   "metadata": {},
   "source": [
    "Writing $x\\ge y$ for $x\\in rTy$ then define a partial ordering on $V(T)$, tree-order associated with $T$ and $r$. \n",
    "\n",
    "*Notation: $xTy$ denotes the unique $x-y$ path in $T$.*\n",
    "\n",
    "The tree-order is the partial ordering on the vertices of a tree with $u < v$ if and only if the unique path from the root to $v$ passes through $u$.\n",
    "\n",
    "*Note: a partial order on a set is an arrangement such that, for certain pairs of elements, one precedes the other.*"
   ]
  },
  {
   "cell_type": "code",
   "execution_count": 58,
   "id": "e946750f-2853-4e97-a23a-55b5bb836a22",
   "metadata": {},
   "outputs": [
    {
     "data": {
      "image/png": "[encoded data removed]",
      "text/plain": [
       "<Figure size 200x200 with 1 Axes>"
      ]
     },
     "metadata": {},
     "output_type": "display_data"
    }
   ],
   "source": [
    "H = nx.binomial_tree(4)\n",
    "degrees = nx.degree(H)\n",
    "leaves = list(map(lambda x: x[0], filter(lambda x: x[1]==1, degrees)))\n",
    "\n",
    "# Take all paths from the root to a leaf node. Check if leaf node's id is higher from his predecessor.\n",
    "for leaf in leaves:\n",
    "    path = nx.shortest_path(H, 0, leaf)\n",
    "    is_monotonic = np.all(np.diff(path) > 0)\n",
    "    assert is_monotonic == True \n",
    "\n",
    "fig = plt.figure(figsize=(2, 2))\n",
    "nx.draw(H, pos=nx.kamada_kawai_layout(H), node_size=150, with_labels=True);\n",
    "nx.draw_networkx_edges(H, pos=nx.kamada_kawai_layout(H), edgelist=[(8, 12), (12, 14), (14, 15)], edge_color='red', width=3);\n",
    "nx.draw_networkx_nodes(H, pos=nx.kamada_kawai_layout(H), nodelist=[8, 12, 14, 15], node_size=150, node_color='red');"
   ]
  },
  {
   "cell_type": "markdown",
   "id": "be3ed3e2-1477-45e0-b5fa-62991e9605a7",
   "metadata": {},
   "source": [
    "## Definition 48 - Normal Tree"
   ]
  },
  {
   "cell_type": "markdown",
   "id": "b6b02622-f051-419d-8497-50d156e7d8ec",
   "metadata": {},
   "source": [
    "A rooted tree $T$ which is a subgraph of some graph $G$ is a normal tree if the ends of every $T$-path in $G$ are comparable in this tree-order.\n",
    "\n",
    "*Note: A normal tree has only one root.*"
   ]
  },
  {
   "cell_type": "markdown",
   "id": "fb53f791-5c9b-4231-99ae-88138f9b07bc",
   "metadata": {},
   "source": [
    "## Definition 49 - R-partitie"
   ]
  },
  {
   "cell_type": "markdown",
   "id": "1ccb7971-3f04-4887-96c1-d7d83b279ace",
   "metadata": {},
   "source": [
    "A graph $G=(V,E)$ is called $r$-partite if $V$ admits a partition into $r$ classes such that every edges has its ends in different classes. "
   ]
  },
  {
   "cell_type": "code",
   "execution_count": 59,
   "id": "9a872a49-1788-408a-890f-ac1bcf594b69",
   "metadata": {},
   "outputs": [
    {
     "data": {
      "image/png": "[encoded data removed]",
      "text/plain": [
       "<Figure size 100x100 with 1 Axes>"
      ]
     },
     "metadata": {},
     "output_type": "display_data"
    }
   ],
   "source": [
    "H = nx.bipartite.random_graph(3, 4, p=0.5, seed=42)\n",
    "top = nx.bipartite.sets(H)[0]\n",
    "\n",
    "fig = plt.figure(figsize=figsize)\n",
    "new_pos = nx.bipartite_layout(H, top)\n",
    "nx.draw(H, pos=new_pos, node_size=150, with_labels=True);\n",
    "nx.draw_networkx_nodes(H, pos=new_pos, nodelist=top, node_size=150, node_color='red');"
   ]
  },
  {
   "cell_type": "markdown",
   "id": "e69212d6-89ae-4b9d-b0ea-dd00b58570cc",
   "metadata": {},
   "source": [
    "## Definition 50 - Complete Partite "
   ]
  },
  {
   "cell_type": "markdown",
   "id": "be1ca717-640b-48c7-ac97-1d029211f533",
   "metadata": {},
   "source": [
    "An $r$-partitie in which every wtow vertices from different partitions classes are adjacent is called complete."
   ]
  },
  {
   "cell_type": "code",
   "execution_count": 60,
   "id": "34a546c8-94fd-45a4-b6be-217f945ea31e",
   "metadata": {},
   "outputs": [
    {
     "data": {
      "image/png": "[encoded data removed]",
      "text/plain": [
       "<Figure size 100x100 with 1 Axes>"
      ]
     },
     "metadata": {},
     "output_type": "display_data"
    }
   ],
   "source": [
    "H = nx.bipartite.complete_bipartite_graph(3, 4)\n",
    "top = nx.bipartite.sets(H)[0]\n",
    "\n",
    "fig = plt.figure(figsize=figsize)\n",
    "new_pos = nx.bipartite_layout(H, top)\n",
    "nx.draw(H, pos=new_pos, node_size=150, with_labels=True);\n",
    "nx.draw_networkx_nodes(H, pos=new_pos, nodelist=top, node_size=150, node_color='red');"
   ]
  },
  {
   "cell_type": "markdown",
   "id": "acc01579-c7b4-4503-a1af-8f48a0ca6553",
   "metadata": {},
   "source": [
    "## Definition 51 - Contraction"
   ]
  },
  {
   "cell_type": "markdown",
   "id": "abb24ec1-1eae-4ddc-9c80-642f969f49b6",
   "metadata": {},
   "source": [
    "Let $e=xy$ be an edge of the graph $G$. By $G/e$ we denote the graph obtained from $G$ by contracting edge $e$ into a new vertex $v_E$"
   ]
  },
  {
   "cell_type": "code",
   "execution_count": 16,
   "id": "4b1611a8-7aa2-4eb0-b8b7-ee29bbfc0760",
   "metadata": {},
   "outputs": [
    {
     "data": {
      "image/png": "[encoded data removed]",
      "text/plain": [
       "<Figure size 200x100 with 2 Axes>"
      ]
     },
     "metadata": {},
     "output_type": "display_data"
    }
   ],
   "source": [
    "H = nx.minors.contracted_edge(G, (6, 5), self_loops=False)\n",
    "\n",
    "fig, axis = plt.subplots(nrows=1, ncols=2, figsize=(2, 1), sharey=True)\n",
    "plt.subplots_adjust(left=0, bottom=-0.1, right=1, top=1, wspace=0.1, hspace=0)\n",
    "\n",
    "nx.draw(G, pos=pos, node_size=150, with_labels=True, ax=axis[0]);\n",
    "nx.draw(H, pos=pos, node_size=150, with_labels=True, ax=axis[1]);\n",
    "nx.draw_networkx_edges(G, pos=pos, edgelist=[(5, 6)], edge_color='red', width=3, ax=axis[0]);"
   ]
  },
  {
   "cell_type": "markdown",
   "id": "3ca40581-983d-452f-9447-9feeec70b2e7",
   "metadata": {
    "tags": []
   },
   "source": [
    "## Definition 52 - Minor"
   ]
  },
  {
   "cell_type": "markdown",
   "id": "eb6635fe-2e60-4529-b564-2525003963da",
   "metadata": {},
   "source": [
    "If $G=MX$ is a subgraph of another graph $Y$ we call $X$ a minor of $Y$.\n",
    "\n",
    "*Note: H is called a minor of the graph G if H can be formed from G by deleting edges.*"
   ]
  },
  {
   "cell_type": "markdown",
   "id": "5d5526a0-8aee-4285-8932-9786b33afb7d",
   "metadata": {},
   "source": [
    "## Definition 53 - Eulerian"
   ]
  },
  {
   "cell_type": "markdown",
   "id": "f06ff87f-ff8f-4dbe-ad79-4e60ae59687b",
   "metadata": {},
   "source": [
    "A closed walk in a graph is an Euler tour if it traverses every edge of the graph exactly once. Its called if it admits an Euler tour."
   ]
  },
  {
   "cell_type": "code",
   "execution_count": 19,
   "id": "6c431dfd-4c07-42ed-9a2e-845bf2896de4",
   "metadata": {},
   "outputs": [
    {
     "name": "stdout",
     "output_type": "stream",
     "text": [
      "Eulerian path = [(0, 1), (1, 2), (2, 0), (0, 3), (3, 1), (1, 4), (4, 2), (2, 3), (3, 4), (4, 0)]\n"
     ]
    },
    {
     "data": {
      "image/png": "[encoded data removed]",
      "text/plain": [
       "<Figure size 100x100 with 1 Axes>"
      ]
     },
     "metadata": {},
     "output_type": "display_data"
    }
   ],
   "source": [
    "assert nx.is_eulerian(G) == False\n",
    "\n",
    "H = nx.complete_graph(5)\n",
    "assert nx.is_eulerian(H) == True\n",
    "\n",
    "eulerian_path = list(nx.eulerian_path(H))\n",
    "print(f'Eulerian path = {eulerian_path}')\n",
    "\n",
    "fig = plt.figure(figsize=figsize)\n",
    "nx.draw(H, pos=nx.circular_layout(H), node_size=150, with_labels=True);\n",
    "nx.draw_networkx_edges(H, pos=nx.circular_layout(H), edgelist=eulerian_path, edge_color='red', width=3);"
   ]
  },
  {
   "cell_type": "markdown",
   "id": "10cc1feb-f8b6-47c7-9887-5820d1739f59",
   "metadata": {},
   "source": [
    "## Definition 54 - Vertex Space"
   ]
  },
  {
   "cell_type": "markdown",
   "id": "bf08f5af-6869-453c-9edb-90069536c32a",
   "metadata": {},
   "source": [
    "The vertex space of $G$ is the vector space over the 2-element field of all functions $V\\to F_2, \\nu(G)$.\n",
    "\n",
    "*Note: These vector spaces make it possible to use techniques of linear algebra in studying the graph.*"
   ]
  },
  {
   "cell_type": "markdown",
   "id": "7fe26bb8-31d4-40e8-8a46-ab934c4100ca",
   "metadata": {},
   "source": [
    "## Definition 55 - Edge Space"
   ]
  },
  {
   "cell_type": "markdown",
   "id": "c4958902-fea9-49dc-9e07-5055287ee5ae",
   "metadata": {},
   "source": [
    "The function $E\\to F_2$ form the edge space of $G$, $ \\mathcal{E}(G)$."
   ]
  },
  {
   "cell_type": "markdown",
   "id": "feb92b5c-5e4a-41a7-a796-d58d10570d73",
   "metadata": {},
   "source": [
    "## Definition 56 - Cycle Space"
   ]
  },
  {
   "cell_type": "markdown",
   "id": "590662ce-ead3-4eb4-ab76-6ec6d1cc6cba",
   "metadata": {},
   "source": [
    "The cycle space is the subspace of the edge space spanned by all the cycles in $G$. $\\mathcal{C}=\\mathcal{C}(G)$."
   ]
  },
  {
   "cell_type": "markdown",
   "id": "4251de85-e3bf-49e6-814b-d9f8045fbc7e",
   "metadata": {},
   "source": [
    "## Definition 57 - Cut space"
   ]
  },
  {
   "cell_type": "markdown",
   "id": "e9930289-f540-499a-9a1c-f0d11956471e",
   "metadata": {},
   "source": [
    "The cut edges of $G$ form a subspace of $\\mathcal{E}(G)$ denoted by $\\mathcal{C}^*(G)$. "
   ]
  },
  {
   "cell_type": "markdown",
   "id": "d4e06e64-87f1-408a-aa21-d75143921fde",
   "metadata": {},
   "source": [
    "## Defintion 58 - Hypergraph"
   ]
  },
  {
   "cell_type": "markdown",
   "id": "8b8e9f8b-2e5e-4e73-a310-13bc2f3f3df2",
   "metadata": {},
   "source": [
    "A hypergraph is a pair $(V, E)$ of disjoint sets, where elements of $E$ are non-empty subset (of any cardinality of $V$)."
   ]
  },
  {
   "cell_type": "markdown",
   "id": "22d61420-a218-4e18-94de-7097287c566a",
   "metadata": {},
   "source": [
    "## Definition 59 - Directed"
   ]
  },
  {
   "cell_type": "markdown",
   "id": "a8910197-0381-4a0b-a034-79a3b0e2f521",
   "metadata": {},
   "source": [
    "A directed graph is a pair $(V, E)$ of disjoint set (of vertices and edges) together with two maps init : $E\\to V$ and ter : $E\\to V$ assigning to every edge $e$ an initial vertex init($e$) and a terminal vertex ter($e$). \n",
    "\n",
    "*Note: a directed graph G where each edge (u, v) in E connects vertex u to vertex v, and represents a directed path from u to v.*"
   ]
  },
  {
   "cell_type": "code",
   "execution_count": 9,
   "id": "511f036c-dac2-47c1-8c86-3b5ca98a0275",
   "metadata": {},
   "outputs": [
    {
     "data": {
      "image/png": "[encoded data removed]",
      "text/plain": [
       "<Figure size 100x100 with 1 Axes>"
      ]
     },
     "metadata": {},
     "output_type": "display_data"
    }
   ],
   "source": [
    "H = nx.erdos_renyi_graph(6, 0.2, seed=42, directed=True)\n",
    "\n",
    "fig = plt.figure(figsize=figsize)\n",
    "nx.draw(H, pos=nx.kamada_kawai_layout(H), node_size=150, with_labels=True)"
   ]
  },
  {
   "cell_type": "markdown",
   "id": "e5ad83da-7cad-40fa-a2c4-b7bd00ea6b9a",
   "metadata": {},
   "source": [
    "## Definition 60 - Orientation"
   ]
  },
  {
   "cell_type": "markdown",
   "id": "b8e2e9a8-a097-477d-9804-e931861b6f7e",
   "metadata": {},
   "source": [
    "A directed graph $D$ is an orientation of an (undirected) graph $G$ if $V(D)V(G)$ and $E(D)=E(G)$ and if $\\{init(e), ter(e)\\} = {x, y}$ for every edge $e=xy$.\n",
    "\n",
    "*Note: An oriented graph is a directed graph having no symmetric pair of directed edges. A complete oriented graph is called a tournament.*"
   ]
  },
  {
   "cell_type": "code",
   "execution_count": 59,
   "id": "b5486a6a-bf57-4708-baff-9f1707c4ef79",
   "metadata": {},
   "outputs": [
    {
     "data": {
      "image/png": "[encoded data removed]",
      "text/plain": [
       "<Figure size 100x100 with 1 Axes>"
      ]
     },
     "metadata": {},
     "output_type": "display_data"
    }
   ],
   "source": [
    "H = nx.gnr_graph(5, p=0.5, seed=50)\n",
    "\n",
    "fig = plt.figure(figsize=figsize)\n",
    "nx.draw(H, pos=nx.planar_layout(H), node_size=150, with_labels=True)"
   ]
  },
  {
   "cell_type": "markdown",
   "id": "61a5c4a3-14bb-4b4b-ad86-0630d9847af6",
   "metadata": {
    "tags": []
   },
   "source": [
    "### Tournament"
   ]
  },
  {
   "cell_type": "markdown",
   "id": "72577feb-780a-4079-ac83-a8ca1e1b577d",
   "metadata": {},
   "source": [
    "Tournament is a complete oriented graph."
   ]
  },
  {
   "cell_type": "code",
   "execution_count": 60,
   "id": "74d33203-47c3-4a4f-b72a-e3c3966d3484",
   "metadata": {},
   "outputs": [
    {
     "data": {
      "image/png": "[encoded data removed]",
      "text/plain": [
       "<Figure size 500x100 with 5 Axes>"
      ]
     },
     "metadata": {},
     "output_type": "display_data"
    }
   ],
   "source": [
    "fig, axis = plt.subplots(nrows=1, ncols=5, figsize=(5, 1), )\n",
    "plt.subplots_adjust(left=0, bottom=0, right=1, top=1, wspace=0, hspace=0)\n",
    "\n",
    "for i in range(2, 7):\n",
    "    H = nx.tournament.random_tournament(i, seed=42)\n",
    "    nx.draw(H, pos=nx.kamada_kawai_layout(H), node_size=150, with_labels=True, ax=axis[i-2])"
   ]
  },
  {
   "cell_type": "markdown",
   "id": "25313534-49d0-44c3-921b-572d7713fa95",
   "metadata": {},
   "source": [
    "Different edges for tournament graph."
   ]
  },
  {
   "cell_type": "code",
   "execution_count": 49,
   "id": "3f15ac94-bd1e-4986-af44-059cfd3e34c8",
   "metadata": {},
   "outputs": [
    {
     "data": {
      "image/png": "[encoded data removed]",
      "text/plain": [
       "<Figure size 500x100 with 4 Axes>"
      ]
     },
     "metadata": {},
     "output_type": "display_data"
    }
   ],
   "source": [
    "fig, axis = plt.subplots(nrows=1, ncols=4, figsize=(5, 1), )\n",
    "plt.subplots_adjust(left=0, bottom=0, right=1, top=1, wspace=0, hspace=0)\n",
    "\n",
    "for i in range(4):\n",
    "    H = nx.tournament.random_tournament(4, seed=i)\n",
    "    nx.draw(H, pos=nx.planar_layout(H), node_size=150, with_labels=True, ax=axis[i])\n",
    "# plt.margins(0.3);"
   ]
  },
  {
   "cell_type": "markdown",
   "id": "b321770e-25c1-44a4-9542-5b11da228c95",
   "metadata": {},
   "source": [
    "## Definition 61 - Multigraph"
   ]
  },
  {
   "cell_type": "markdown",
   "id": "3e580eb0-abc6-4d5b-8397-c1791ce1e1dc",
   "metadata": {},
   "source": [
    "A multigraph is a pair $(V, E)$ of disjoint sets (of vertices and edges) together with a map $E\\to V\\cup |V|^2$ assigning to every edge one or two vertices, its endpoints. \n",
    "\n",
    "*Note: a multigraph is a graph which is permitted to have multiple edges (also called parallel edges), that is, edges that have the same end nodes. Thus two vertices may be connected by more than one edge.*"
   ]
  },
  {
   "cell_type": "code",
   "execution_count": 11,
   "id": "b3444259-731e-43f6-848f-9589f88cee1a",
   "metadata": {},
   "outputs": [
    {
     "name": "stdout",
     "output_type": "stream",
     "text": [
      "MultiGraph with 3 nodes and 4 edges\n"
     ]
    },
    {
     "data": {
      "image/png": "[encoded data removed]",
      "text/plain": [
       "<Figure size 150x150 with 1 Axes>"
      ]
     },
     "metadata": {},
     "output_type": "display_data"
    }
   ],
   "source": [
    "H = nx.MultiGraph()\n",
    "\n",
    "# Add edges to the graph\n",
    "H.add_edge(1, 2, rad=0.2, label='A')\n",
    "H.add_edge(1, 2, rad=-0.2, label='B')\n",
    "H.add_edge(2, 3, rad=0.2, label='A')\n",
    "H.add_edge(2, 3, rad=-0.2, label='B')\n",
    "\n",
    "print(nx.info(H))\n",
    "\n",
    "fig = plt.figure(figsize=(1.5, 1.5))\n",
    "plt.tick_params(left=False, labelleft=False) \n",
    "plt.box(False)\n",
    "\n",
    "new_pos = nx.planar_layout(H)\n",
    "nx.draw_networkx_nodes(H, new_pos, node_size=150, label=True)\n",
    "nx.draw_networkx_labels(H, new_pos)\n",
    "\n",
    "for edge in H.edges(data=True):\n",
    "    nx.draw_networkx_edges(H, new_pos, edgelist=[(edge[0],edge[1])], arrows=True, connectionstyle=f'arc3, rad = {edge[2][\"rad\"]}')\n",
    "# plt.margins(0.05);"
   ]
  },
  {
   "cell_type": "markdown",
   "id": "13f9f896-c2d9-4be1-8d21-ab05b0f14ccb",
   "metadata": {},
   "source": [
    "## Definition 62 - Matching"
   ]
  },
  {
   "cell_type": "markdown",
   "id": "1b0bcbcd-ab85-46cf-9174-766fba1e89e5",
   "metadata": {},
   "source": [
    "A set $M$ of independent edges in a graph $G=(V,E)$ is called a matching.\n",
    "\n",
    "*Note: Matching refers to a subset of the edges of a graph, such that no two edges in the subset share a common vertex.*"
   ]
  },
  {
   "cell_type": "code",
   "execution_count": 17,
   "id": "0d113adb-48cd-472c-85cf-d2f7a962f974",
   "metadata": {},
   "outputs": [
    {
     "name": "stdout",
     "output_type": "stream",
     "text": [
      "Matching = {(1, 2), (3, 4), (5, 6)}\n"
     ]
    },
    {
     "data": {
      "image/png": "[encoded data removed]",
      "text/plain": [
       "<Figure size 100x100 with 1 Axes>"
      ]
     },
     "metadata": {},
     "output_type": "display_data"
    }
   ],
   "source": [
    "M = nx.maximal_matching(G)\n",
    "print(f'Matching = {M}')\n",
    "\n",
    "fig = plt.figure(figsize=figsize)\n",
    "nx.draw(G, pos=pos, node_size=150, with_labels=True)\n",
    "nx.draw_networkx_edges(G, pos=pos, edgelist=M, edge_color='red', width=3);"
   ]
  },
  {
   "cell_type": "markdown",
   "id": "bd48888d-2221-4dfd-8443-46c95d127118",
   "metadata": {},
   "source": [
    "### Additional example"
   ]
  },
  {
   "cell_type": "code",
   "execution_count": 19,
   "id": "1ed3539a-59a7-43cc-9aac-827bc23780ca",
   "metadata": {},
   "outputs": [
    {
     "name": "stdout",
     "output_type": "stream",
     "text": [
      "Matching = {(0, 1), (4, 5), (2, 3)}\n"
     ]
    },
    {
     "data": {
      "image/png": "[encoded data removed]",
      "text/plain": [
       "<Figure size 100x100 with 1 Axes>"
      ]
     },
     "metadata": {},
     "output_type": "display_data"
    }
   ],
   "source": [
    "P = nx.path_graph(6)\n",
    "M = nx.maximal_matching(P)\n",
    "print(f'Matching = {M}')\n",
    "\n",
    "fig = plt.figure(figsize=figsize)\n",
    "new_pos = nx.circular_layout(P)\n",
    "nx.draw(P, pos=new_pos, node_size=150, with_labels=True)\n",
    "nx.draw_networkx_edges(P, pos=new_pos, edgelist=M, edge_color='red', width=3);"
   ]
  },
  {
   "cell_type": "markdown",
   "id": "fae5b870-f8d2-444c-83eb-b92a7aa6ca3c",
   "metadata": {},
   "source": [
    "## Definition 63 - Factor"
   ]
  },
  {
   "cell_type": "markdown",
   "id": "f2db9cb5-dd70-4c72-a4d6-5059e1fb1889",
   "metadata": {},
   "source": [
    "A $k$-regular spanning subgraph is called $k$-factor.\n",
    "\n",
    "*Note: A spanning k-regular subgraph of G is a subgraph that contains each vertex of G and a subset of the edges of G such that each vertex has degree k.*"
   ]
  },
  {
   "cell_type": "code",
   "execution_count": 24,
   "id": "5264b8ba-8274-40f3-bb6a-3971e01090ef",
   "metadata": {},
   "outputs": [
    {
     "data": {
      "image/png": "[encoded data removed]",
      "text/plain": [
       "<Figure size 100x100 with 1 Axes>"
      ]
     },
     "metadata": {},
     "output_type": "display_data"
    }
   ],
   "source": [
    "H = nx.k_factor(G, k=1)\n",
    "\n",
    "fig = plt.figure(figsize=figsize)\n",
    "nx.draw(H, pos=pos, node_size=150, with_labels=True)\n",
    "# nx.draw_networkx_edges(P, pos=pos, edgelist=M, edge_color='red', width=3);"
   ]
  },
  {
   "cell_type": "markdown",
   "id": "87df0a7d-6348-4339-8101-5b7a10d95885",
   "metadata": {},
   "source": [
    "## Definition 64 - Alternating Paths"
   ]
  },
  {
   "cell_type": "markdown",
   "id": "14681867-e198-47fa-a857-f7133a0669f7",
   "metadata": {},
   "source": [
    "## Definition 65 - Augmenting Path"
   ]
  },
  {
   "cell_type": "markdown",
   "id": "e9288dfd-3bf2-4020-ad3c-32621a672e27",
   "metadata": {},
   "source": [
    "## Definition 66 - Cover"
   ]
  },
  {
   "cell_type": "markdown",
   "id": "fea909be-fa42-461c-87a0-34cdfd3c82d1",
   "metadata": {},
   "source": [
    "## Definition 67 - $q(G)$"
   ]
  },
  {
   "cell_type": "markdown",
   "id": "f4e9d9df-3c66-4efd-8d83-3957c53e158d",
   "metadata": {},
   "source": [
    "# IN PROGRESS"
   ]
  },
  {
   "cell_type": "code",
   "execution_count": null,
   "id": "669784ee-9045-4658-8810-20b85d00509b",
   "metadata": {},
   "outputs": [],
   "source": []
  }
 ],
 "metadata": {
  "environment": {
   "kernel": "python3",
   "name": "common-cpu.m103",
   "type": "gcloud",
   "uri": "gcr.io/deeplearning-platform-release/base-cpu:m103"
  },
  "kernelspec": {
   "display_name": "Python 3",
   "language": "python",
   "name": "python3"
  },
  "language_info": {
   "codemirror_mode": {
    "name": "ipython",
    "version": 3
   },
   "file_extension": ".py",
   "mimetype": "text/x-python",
   "name": "python",
   "nbconvert_exporter": "python",
   "pygments_lexer": "ipython3",
   "version": "3.7.12"
  },
  "toc-autonumbering": false,
  "toc-showcode": false,
  "toc-showmarkdowntxt": false,
  "toc-showtags": false
 },
 "nbformat": 4,
 "nbformat_minor": 5
}
